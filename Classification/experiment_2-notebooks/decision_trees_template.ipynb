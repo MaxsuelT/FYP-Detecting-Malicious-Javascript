{
 "cells": [
  {
   "cell_type": "code",
   "execution_count": 1,
   "metadata": {},
   "outputs": [],
   "source": [
    "import pandas as pd\n",
    "import numpy as np\n",
    "import matplotlib.pyplot as plt\n",
    "import seaborn as sns\n",
    "import os\n",
    "import graphviz\n",
    "from sklearn import tree\n",
    "from sklearn.tree import DecisionTreeClassifier\n",
    "from sklearn.model_selection import train_test_split, GridSearchCV, StratifiedKFold\n",
    "\n",
    "from sklearn.metrics import accuracy_score, precision_score, confusion_matrix\n",
    "from sklearn.utils import shuffle\n",
    "import warnings\n",
    "warnings.filterwarnings('error')\n"
   ]
  },
  {
   "cell_type": "code",
   "execution_count": 2,
   "metadata": {},
   "outputs": [],
   "source": [
    "filepath = os.path.join(os.getcwd(), '../data/Interim_Report.csv')\n",
    "df = pd.read_csv(filepath)\n",
    "df['Class'] = df['Class'].apply(lambda val: 0 if val == 'Benign' else 1)\n",
    "df = shuffle(df, random_state = 2)"
   ]
  },
  {
   "cell_type": "code",
   "execution_count": 3,
   "metadata": {},
   "outputs": [],
   "source": [
    "X = df.drop('Class', axis=1)\n",
    "y = df.loc[:,'Class']\n",
    "\n",
    "X_train, X_test, y_train, y_test = train_test_split(X, y, test_size=0.4,\n",
    "random_state=1, stratify=y)"
   ]
  },
  {
   "cell_type": "code",
   "execution_count": 4,
   "metadata": {},
   "outputs": [
    {
     "name": "stdout",
     "output_type": "stream",
     "text": [
      "X_train shape (4414, 64)\n",
      "X_test shape (2944, 64)\n",
      "y_train shape (4414,)\n",
      "y_test shape (2944,)\n"
     ]
    }
   ],
   "source": [
    "print(f'X_train shape {X_train.shape}')\n",
    "print(f'X_test shape {X_test.shape}')\n",
    "print(f'y_train shape {y_train.shape}')\n",
    "print(f'y_test shape {y_test.shape}')"
   ]
  },
  {
   "cell_type": "code",
   "execution_count": 25,
   "metadata": {},
   "outputs": [],
   "source": [
    "# Checking the range of parameters\n",
    "\n",
    "max_depth = [3,4,5,6,7,8]\n",
    "max_leaf_nodes= [4,6,8,10,12,14]\n",
    "min_samples_split =  [10,20,30,40,50,60,70,80,90,100]\n",
    "train_accuracy = []\n",
    "test_accuracy = []\n",
    "\n",
    "for par in min_samples_split:\n",
    "    clf = DecisionTreeClassifier(criterion='gini', min_samples_split=par, random_state =1)\n",
    "    #Fit the model\n",
    "    clf.fit(X_train, y_train)\n",
    "    #Compute accuracy on the training set and test set\n",
    "    train_accuracy.append(clf.score(X_train, y_train))\n",
    "    test_accuracy.append(clf.score(X_test, y_test))\n",
    "  "
   ]
  },
  {
   "cell_type": "code",
   "execution_count": 26,
   "metadata": {},
   "outputs": [],
   "source": [
    "train_loss = []\n",
    "validation_loss = []\n",
    "\n",
    "for score in train_accuracy:\n",
    "    train_loss.append((1 - score))\n",
    "\n",
    "for score in test_accuracy:\n",
    "    validation_loss.append((1 - score))"
   ]
  },
  {
   "cell_type": "code",
   "execution_count": 28,
   "metadata": {},
   "outputs": [
    {
     "data": {
      "image/png": "[encoded data removed]",
      "text/plain": [
       "<Figure size 576x432 with 1 Axes>"
      ]
     },
     "metadata": {},
     "output_type": "display_data"
    }
   ],
   "source": [
    "# # #Generate plot\n",
    "x_ticks = np.arange(0, len(min_samples_split))\n",
    "sns.set_style(style=\"darkgrid\")\n",
    "fig, ax = plt.subplots(figsize=(8,6));\n",
    "sns.lineplot(data=[train_loss, validation_loss], dashes=False, ax=ax)\n",
    "ax.set_title('min_samples_split Hyperparameter', fontsize=14, fontweight='bold');\n",
    "ax.set(xlabel='min_samples_split', ylabel='Loss');\n",
    "ax.legend(title='Class', labels=['Training', 'Validation']);\n",
    "plt.xticks(ticks=x_ticks, labels=min_samples_split);\n",
    "plt.savefig('../tuning/exp2_dt_min_samples_split.png', dpi=300)"
   ]
  },
  {
   "cell_type": "code",
   "execution_count": null,
   "metadata": {},
   "outputs": [],
   "source": []
  },
  {
   "cell_type": "code",
   "execution_count": 27,
   "metadata": {},
   "outputs": [
    {
     "name": "stdout",
     "output_type": "stream",
     "text": [
      "Fitting 5 folds for each of 27 candidates, totalling 135 fits\n"
     ]
    },
    {
     "data": {
      "text/plain": [
       "GridSearchCV(cv=5, estimator=DecisionTreeClassifier(random_state=99),\n",
       "             param_grid={'criterion': ['gini'], 'max_depth': [4, 5, 6],\n",
       "                         'max_features': ['sqrt'], 'max_leaf_nodes': [4, 6, 8],\n",
       "                         'min_samples_split': [20, 25, 30]},\n",
       "             verbose=1)"
      ]
     },
     "execution_count": 27,
     "metadata": {},
     "output_type": "execute_result"
    }
   ],
   "source": [
    "# hyperparamer tuning\n",
    "param_grid = {\n",
    "    'criterion': ['gini'],\n",
    "    'max_depth' : [4,5,6],\n",
    "    'max_leaf_nodes': [4,6,8],\n",
    "    'min_samples_split': [20,25,30],\n",
    "    'max_features': [\"sqrt\"],      \n",
    "    }\n",
    "dt = DecisionTreeClassifier(random_state=99)\n",
    "dtgrid = GridSearchCV(dt,param_grid,verbose =1,cv=5)\n",
    "dtgrid.fit(X_train,y_train)"
   ]
  },
  {
   "cell_type": "code",
   "execution_count": 28,
   "metadata": {},
   "outputs": [
    {
     "name": "stdout",
     "output_type": "stream",
     "text": [
      "Best estimator:  DecisionTreeClassifier(max_depth=6, max_features='sqrt', max_leaf_nodes=8,\n",
      "                       min_samples_split=20, random_state=99)\n",
      "Best score: 94.631 %\n"
     ]
    }
   ],
   "source": [
    "print(f'Best estimator:  {dtgrid.best_estimator_}')\n",
    "print(f'Best score: {(dtgrid.best_score_ * 100):.3f} %')"
   ]
  },
  {
   "cell_type": "code",
   "execution_count": 29,
   "metadata": {},
   "outputs": [],
   "source": [
    "dt = DecisionTreeClassifier(\n",
    "            criterion=\"gini\", \n",
    "            max_depth=dtgrid.best_params_[\"max_depth\"],\n",
    "             max_leaf_nodes=dtgrid.best_params_[\"max_leaf_nodes\"],\n",
    "             min_samples_split = dtgrid.best_params_['min_samples_split'],\n",
    "             max_features=\"sqrt\",\n",
    "             random_state=1\n",
    "        ) "
   ]
  },
  {
   "cell_type": "code",
   "execution_count": 30,
   "metadata": {},
   "outputs": [
    {
     "data": {
      "text/plain": [
       "{'ccp_alpha': 0.0,\n",
       " 'class_weight': None,\n",
       " 'criterion': 'gini',\n",
       " 'max_depth': 6,\n",
       " 'max_features': 'sqrt',\n",
       " 'max_leaf_nodes': 8,\n",
       " 'min_impurity_decrease': 0.0,\n",
       " 'min_samples_leaf': 1,\n",
       " 'min_samples_split': 20,\n",
       " 'min_weight_fraction_leaf': 0.0,\n",
       " 'random_state': 1,\n",
       " 'splitter': 'best'}"
      ]
     },
     "execution_count": 30,
     "metadata": {},
     "output_type": "execute_result"
    }
   ],
   "source": [
    "dt.get_params()"
   ]
  },
  {
   "cell_type": "code",
   "execution_count": 31,
   "metadata": {},
   "outputs": [],
   "source": [
    "# evaluating the models"
   ]
  },
  {
   "cell_type": "code",
   "execution_count": 32,
   "metadata": {},
   "outputs": [],
   "source": [
    "def sensitivity(conf):\n",
    " return conf[1][1] / (conf[1][1] + conf[1][0])\n",
    "\n",
    "def specificity(conf):\n",
    " return conf[0][0] / (conf[0][0] + conf[0][1])\n"
   ]
  },
  {
   "cell_type": "code",
   "execution_count": 33,
   "metadata": {},
   "outputs": [],
   "source": [
    "def evaluate_model(X, y):\n",
    "\n",
    "    train_accuracy = []\n",
    "    test_accuracy = []\n",
    "    sensitivity_scores = []\n",
    "    specificity_scores = []\n",
    "    confusion_matrix_scores = []\n",
    "    precision_scores = []\n",
    "\n",
    "    cv = StratifiedKFold(n_splits=5, shuffle=True, random_state=1) \n",
    "    for train, test in  cv.split(X,y):\n",
    "        X_train_strat = X.iloc[train]\n",
    "        y_train_strat = y.iloc[train]\n",
    "        X_test_strat = X.iloc[test]\n",
    "        y_test_strat = y.iloc[test]\n",
    "     \n",
    "        dt.fit(X_train_strat, y_train_strat)\n",
    "   \n",
    "        y_pred_train_strat = dt.predict(X_train_strat)\n",
    "        y_pred_strat = dt.predict(X_test_strat)\n",
    "\n",
    "\n",
    "        train_accuracy.append(accuracy_score(y_train_strat, y_pred_train_strat))\n",
    "        test_accuracy.append(accuracy_score(y_test_strat, y_pred_strat))\n",
    "\n",
    "        conf = confusion_matrix(y_test_strat,y_pred_strat)\n",
    "\n",
    "        confusion_matrix_scores.append(conf) \n",
    "\n",
    "    \n",
    "        precision_scores.append(precision_score(y_test_strat,y_pred_strat))\n",
    "        sensitivity_scores.append(sensitivity(conf))\n",
    "        specificity_scores.append(specificity(conf))\n",
    "\n",
    "    return (train_accuracy, test_accuracy, confusion_matrix_scores, \n",
    "            precision_scores,sensitivity_scores, \n",
    "            specificity_scores)\n",
    "\n"
   ]
  },
  {
   "cell_type": "code",
   "execution_count": 34,
   "metadata": {},
   "outputs": [],
   "source": [
    "train_accuracy, test_accuracy, confusion_matrix_scores, precision_scores, sensitivity_scores,specificity_scores = evaluate_model(X, y)"
   ]
  },
  {
   "cell_type": "code",
   "execution_count": 35,
   "metadata": {},
   "outputs": [],
   "source": [
    "def average(array):\n",
    "    total = 0\n",
    "    for score in array:\n",
    "        total += score\n",
    "\n",
    "    return (f'{(total / 5 * 100):.2f}')\n",
    "\n",
    "def score(array):\n",
    "    for score in array:\n",
    "        print(f'{(score * 100):.2f}') "
   ]
  },
  {
   "cell_type": "code",
   "execution_count": 36,
   "metadata": {},
   "outputs": [
    {
     "name": "stdout",
     "output_type": "stream",
     "text": [
      "95.55\n",
      "96.21\n",
      "95.96\n",
      "91.76\n",
      "95.75\n"
     ]
    },
    {
     "data": {
      "text/plain": [
       "'95.05'"
      ]
     },
     "execution_count": 36,
     "metadata": {},
     "output_type": "execute_result"
    }
   ],
   "source": [
    "score(train_accuracy)\n",
    "average(train_accuracy)\n"
   ]
  },
  {
   "cell_type": "code",
   "execution_count": 37,
   "metadata": {},
   "outputs": [
    {
     "name": "stdout",
     "output_type": "stream",
     "text": [
      "95.65\n",
      "95.24\n",
      "96.26\n",
      "91.64\n",
      "96.33\n"
     ]
    },
    {
     "data": {
      "text/plain": [
       "'95.03'"
      ]
     },
     "execution_count": 37,
     "metadata": {},
     "output_type": "execute_result"
    }
   ],
   "source": [
    "score(test_accuracy)\n",
    "average(test_accuracy)"
   ]
  },
  {
   "cell_type": "code",
   "execution_count": 38,
   "metadata": {},
   "outputs": [
    {
     "name": "stdout",
     "output_type": "stream",
     "text": [
      "[[729   7]\n",
      " [ 57 679]] \n",
      "\n",
      "[[730   6]\n",
      " [ 64 672]] \n",
      "\n",
      "[[727   9]\n",
      " [ 46 690]] \n",
      "\n",
      "[[649  86]\n",
      " [ 37 699]] \n",
      "\n",
      "[[723  13]\n",
      " [ 41 694]] \n",
      "\n"
     ]
    }
   ],
   "source": [
    "for cf in confusion_matrix_scores:\n",
    "    print(cf , \"\\n\")"
   ]
  },
  {
   "cell_type": "code",
   "execution_count": 39,
   "metadata": {},
   "outputs": [
    {
     "name": "stdout",
     "output_type": "stream",
     "text": [
      "98.98\n",
      "99.12\n",
      "98.71\n",
      "89.04\n",
      "98.16\n"
     ]
    },
    {
     "data": {
      "text/plain": [
       "'96.80'"
      ]
     },
     "execution_count": 39,
     "metadata": {},
     "output_type": "execute_result"
    }
   ],
   "source": [
    "# precision_scores\n",
    "score(precision_scores)\n",
    "average(precision_scores)"
   ]
  },
  {
   "cell_type": "code",
   "execution_count": 40,
   "metadata": {},
   "outputs": [
    {
     "name": "stdout",
     "output_type": "stream",
     "text": [
      "92.26\n",
      "91.30\n",
      "93.75\n",
      "94.97\n",
      "94.42\n"
     ]
    },
    {
     "data": {
      "text/plain": [
       "'93.34'"
      ]
     },
     "execution_count": 40,
     "metadata": {},
     "output_type": "execute_result"
    }
   ],
   "source": [
    "# sensitivity_scores\n",
    "score(sensitivity_scores)\n",
    "average(sensitivity_scores)"
   ]
  },
  {
   "cell_type": "code",
   "execution_count": 41,
   "metadata": {},
   "outputs": [
    {
     "name": "stdout",
     "output_type": "stream",
     "text": [
      "99.05\n",
      "99.18\n",
      "98.78\n",
      "88.30\n",
      "98.23\n"
     ]
    },
    {
     "data": {
      "text/plain": [
       "'96.71'"
      ]
     },
     "execution_count": 41,
     "metadata": {},
     "output_type": "execute_result"
    }
   ],
   "source": [
    "# specificity_scores\n",
    "score(specificity_scores)\n",
    "average(specificity_scores)"
   ]
  },
  {
   "cell_type": "code",
   "execution_count": 42,
   "metadata": {},
   "outputs": [],
   "source": [
    "y_columns = y_train.apply(lambda val: 'Benign' if val == 0 else 'Malicious')\n",
    "assert(len(y_train) == len(y_columns))"
   ]
  },
  {
   "cell_type": "code",
   "execution_count": 43,
   "metadata": {},
   "outputs": [
    {
     "data": {
      "image/svg+xml": "<?xml version=\"1.0\" encoding=\"UTF-8\" standalone=\"no\"?>\n<!DOCTYPE svg PUBLIC \"-//W3C//DTD SVG 1.1//EN\"\n \"http://www.w3.org/Graphics/SVG/1.1/DTD/svg11.dtd\">\n<!-- Generated by graphviz version 3.0.0 (20220226.1711)\n -->\n<!-- Title: Tree Pages: 1 -->\n<svg width=\"810pt\" height=\"520pt\"\n viewBox=\"0.00 0.00 809.50 520.00\" xmlns=\"http://www.w3.org/2000/svg\" xmlns:xlink=\"http://www.w3.org/1999/xlink\">\n<g id=\"graph0\" class=\"graph\" transform=\"scale(1 1) rotate(0) translate(4 516)\">\n<title>Tree</title>\n<polygon fill=\"white\" stroke=\"transparent\" points=\"-4,4 -4,-516 805.5,-516 805.5,4 -4,4\"/>\n<!-- 0 -->\n<g id=\"node1\" class=\"node\">\n<title>0</title>\n<path fill=\"#ffffff\" stroke=\"black\" d=\"M580.5,-512C580.5,-512 464.5,-512 464.5,-512 458.5,-512 452.5,-506 452.5,-500 452.5,-500 452.5,-441 452.5,-441 452.5,-435 458.5,-429 464.5,-429 464.5,-429 580.5,-429 580.5,-429 586.5,-429 592.5,-435 592.5,-441 592.5,-441 592.5,-500 592.5,-500 592.5,-506 586.5,-512 580.5,-512\"/>\n<text text-anchor=\"middle\" x=\"522.5\" y=\"-496.8\" font-family=\"Helvetica,sans-Serif\" font-size=\"14.00\">eval &lt;= 0.5</text>\n<text text-anchor=\"middle\" x=\"522.5\" y=\"-481.8\" font-family=\"Helvetica,sans-Serif\" font-size=\"14.00\">gini = 0.5</text>\n<text text-anchor=\"middle\" x=\"522.5\" y=\"-466.8\" font-family=\"Helvetica,sans-Serif\" font-size=\"14.00\">samples = 5887</text>\n<text text-anchor=\"middle\" x=\"522.5\" y=\"-451.8\" font-family=\"Helvetica,sans-Serif\" font-size=\"14.00\">value = [2943, 2944]</text>\n<text text-anchor=\"middle\" x=\"522.5\" y=\"-436.8\" font-family=\"Helvetica,sans-Serif\" font-size=\"14.00\">class = Malicious</text>\n</g>\n<!-- 1 -->\n<g id=\"node2\" class=\"node\">\n<title>1</title>\n<path fill=\"#efaf82\" stroke=\"black\" d=\"M510.5,-393C510.5,-393 340.5,-393 340.5,-393 334.5,-393 328.5,-387 328.5,-381 328.5,-381 328.5,-322 328.5,-322 328.5,-316 334.5,-310 340.5,-310 340.5,-310 510.5,-310 510.5,-310 516.5,-310 522.5,-316 522.5,-322 522.5,-322 522.5,-381 522.5,-381 522.5,-387 516.5,-393 510.5,-393\"/>\n<text text-anchor=\"middle\" x=\"425.5\" y=\"-377.8\" font-family=\"Helvetica,sans-Serif\" font-size=\"14.00\">ConditionalExpression &lt;= 1.5</text>\n<text text-anchor=\"middle\" x=\"425.5\" y=\"-362.8\" font-family=\"Helvetica,sans-Serif\" font-size=\"14.00\">gini = 0.394</text>\n<text text-anchor=\"middle\" x=\"425.5\" y=\"-347.8\" font-family=\"Helvetica,sans-Serif\" font-size=\"14.00\">samples = 3770</text>\n<text text-anchor=\"middle\" x=\"425.5\" y=\"-332.8\" font-family=\"Helvetica,sans-Serif\" font-size=\"14.00\">value = [2754, 1016]</text>\n<text text-anchor=\"middle\" x=\"425.5\" y=\"-317.8\" font-family=\"Helvetica,sans-Serif\" font-size=\"14.00\">class = Benign</text>\n</g>\n<!-- 0&#45;&gt;1 -->\n<g id=\"edge1\" class=\"edge\">\n<title>0&#45;&gt;1</title>\n<path fill=\"none\" stroke=\"black\" d=\"M488.85,-428.91C481.32,-419.83 473.27,-410.12 465.52,-400.77\"/>\n<polygon fill=\"black\" stroke=\"black\" points=\"468.17,-398.49 459.09,-393.02 462.78,-402.95 468.17,-398.49\"/>\n<text text-anchor=\"middle\" x=\"456.77\" y=\"-414.21\" font-family=\"Helvetica,sans-Serif\" font-size=\"14.00\">True</text>\n</g>\n<!-- 2 -->\n<g id=\"node11\" class=\"node\">\n<title>2</title>\n<path fill=\"#4ca7e8\" stroke=\"black\" d=\"M686,-393C686,-393 553,-393 553,-393 547,-393 541,-387 541,-381 541,-381 541,-322 541,-322 541,-316 547,-310 553,-310 553,-310 686,-310 686,-310 692,-310 698,-316 698,-322 698,-322 698,-381 698,-381 698,-387 692,-393 686,-393\"/>\n<text text-anchor=\"middle\" x=\"619.5\" y=\"-377.8\" font-family=\"Helvetica,sans-Serif\" font-size=\"14.00\">dom_operations &lt;= 9.0</text>\n<text text-anchor=\"middle\" x=\"619.5\" y=\"-362.8\" font-family=\"Helvetica,sans-Serif\" font-size=\"14.00\">gini = 0.163</text>\n<text text-anchor=\"middle\" x=\"619.5\" y=\"-347.8\" font-family=\"Helvetica,sans-Serif\" font-size=\"14.00\">samples = 2117</text>\n<text text-anchor=\"middle\" x=\"619.5\" y=\"-332.8\" font-family=\"Helvetica,sans-Serif\" font-size=\"14.00\">value = [189, 1928]</text>\n<text text-anchor=\"middle\" x=\"619.5\" y=\"-317.8\" font-family=\"Helvetica,sans-Serif\" font-size=\"14.00\">class = Malicious</text>\n</g>\n<!-- 0&#45;&gt;2 -->\n<g id=\"edge10\" class=\"edge\">\n<title>0&#45;&gt;2</title>\n<path fill=\"none\" stroke=\"black\" d=\"M556.15,-428.91C563.68,-419.83 571.73,-410.12 579.48,-400.77\"/>\n<polygon fill=\"black\" stroke=\"black\" points=\"582.22,-402.95 585.91,-393.02 576.83,-398.49 582.22,-402.95\"/>\n<text text-anchor=\"middle\" x=\"588.23\" y=\"-414.21\" font-family=\"Helvetica,sans-Serif\" font-size=\"14.00\">False</text>\n</g>\n<!-- 5 -->\n<g id=\"node3\" class=\"node\">\n<title>5</title>\n<path fill=\"#f3c5a4\" stroke=\"black\" d=\"M313,-274C313,-274 158,-274 158,-274 152,-274 146,-268 146,-262 146,-262 146,-203 146,-203 146,-197 152,-191 158,-191 158,-191 313,-191 313,-191 319,-191 325,-197 325,-203 325,-203 325,-262 325,-262 325,-268 319,-274 313,-274\"/>\n<text text-anchor=\"middle\" x=\"235.5\" y=\"-258.8\" font-family=\"Helvetica,sans-Serif\" font-size=\"14.00\">VariableDeclarator &lt;= 80.5</text>\n<text text-anchor=\"middle\" x=\"235.5\" y=\"-243.8\" font-family=\"Helvetica,sans-Serif\" font-size=\"14.00\">gini = 0.456</text>\n<text text-anchor=\"middle\" x=\"235.5\" y=\"-228.8\" font-family=\"Helvetica,sans-Serif\" font-size=\"14.00\">samples = 2561</text>\n<text text-anchor=\"middle\" x=\"235.5\" y=\"-213.8\" font-family=\"Helvetica,sans-Serif\" font-size=\"14.00\">value = [1660, 901]</text>\n<text text-anchor=\"middle\" x=\"235.5\" y=\"-198.8\" font-family=\"Helvetica,sans-Serif\" font-size=\"14.00\">class = Benign</text>\n</g>\n<!-- 1&#45;&gt;5 -->\n<g id=\"edge2\" class=\"edge\">\n<title>1&#45;&gt;5</title>\n<path fill=\"none\" stroke=\"black\" d=\"M359.58,-309.91C343.66,-300.11 326.54,-289.56 310.25,-279.53\"/>\n<polygon fill=\"black\" stroke=\"black\" points=\"311.65,-276.28 301.3,-274.02 307.98,-282.24 311.65,-276.28\"/>\n</g>\n<!-- 6 -->\n<g id=\"node8\" class=\"node\">\n<title>6</title>\n<path fill=\"#e88e4e\" stroke=\"black\" d=\"M510,-274C510,-274 355,-274 355,-274 349,-274 343,-268 343,-262 343,-262 343,-203 343,-203 343,-197 349,-191 355,-191 355,-191 510,-191 510,-191 516,-191 522,-197 522,-203 522,-203 522,-262 522,-262 522,-268 516,-274 510,-274\"/>\n<text text-anchor=\"middle\" x=\"432.5\" y=\"-258.8\" font-family=\"Helvetica,sans-Serif\" font-size=\"14.00\">BinaryExpression &lt;= 278.5</text>\n<text text-anchor=\"middle\" x=\"432.5\" y=\"-243.8\" font-family=\"Helvetica,sans-Serif\" font-size=\"14.00\">gini = 0.172</text>\n<text text-anchor=\"middle\" x=\"432.5\" y=\"-228.8\" font-family=\"Helvetica,sans-Serif\" font-size=\"14.00\">samples = 1209</text>\n<text text-anchor=\"middle\" x=\"432.5\" y=\"-213.8\" font-family=\"Helvetica,sans-Serif\" font-size=\"14.00\">value = [1094, 115]</text>\n<text text-anchor=\"middle\" x=\"432.5\" y=\"-198.8\" font-family=\"Helvetica,sans-Serif\" font-size=\"14.00\">class = Benign</text>\n</g>\n<!-- 1&#45;&gt;6 -->\n<g id=\"edge7\" class=\"edge\">\n<title>1&#45;&gt;6</title>\n<path fill=\"none\" stroke=\"black\" d=\"M427.93,-309.91C428.43,-301.56 428.96,-292.67 429.48,-284.02\"/>\n<polygon fill=\"black\" stroke=\"black\" points=\"432.97,-284.21 430.08,-274.02 425.98,-283.79 432.97,-284.21\"/>\n</g>\n<!-- 7 -->\n<g id=\"node4\" class=\"node\">\n<title>7</title>\n<path fill=\"#eda978\" stroke=\"black\" d=\"M159,-155C159,-155 12,-155 12,-155 6,-155 0,-149 0,-143 0,-143 0,-84 0,-84 0,-78 6,-72 12,-72 12,-72 159,-72 159,-72 165,-72 171,-78 171,-84 171,-84 171,-143 171,-143 171,-149 165,-155 159,-155\"/>\n<text text-anchor=\"middle\" x=\"85.5\" y=\"-139.8\" font-family=\"Helvetica,sans-Serif\" font-size=\"14.00\">str_fromCharCode &lt;= 0.5</text>\n<text text-anchor=\"middle\" x=\"85.5\" y=\"-124.8\" font-family=\"Helvetica,sans-Serif\" font-size=\"14.00\">gini = 0.365</text>\n<text text-anchor=\"middle\" x=\"85.5\" y=\"-109.8\" font-family=\"Helvetica,sans-Serif\" font-size=\"14.00\">samples = 2174</text>\n<text text-anchor=\"middle\" x=\"85.5\" y=\"-94.8\" font-family=\"Helvetica,sans-Serif\" font-size=\"14.00\">value = [1651, 523]</text>\n<text text-anchor=\"middle\" x=\"85.5\" y=\"-79.8\" font-family=\"Helvetica,sans-Serif\" font-size=\"14.00\">class = Benign</text>\n</g>\n<!-- 5&#45;&gt;7 -->\n<g id=\"edge3\" class=\"edge\">\n<title>5&#45;&gt;7</title>\n<path fill=\"none\" stroke=\"black\" d=\"M183.46,-190.91C171.24,-181.38 158.13,-171.15 145.59,-161.37\"/>\n<polygon fill=\"black\" stroke=\"black\" points=\"147.49,-158.41 137.45,-155.02 143.18,-163.93 147.49,-158.41\"/>\n</g>\n<!-- 8 -->\n<g id=\"node7\" class=\"node\">\n<title>8</title>\n<path fill=\"#3e9fe6\" stroke=\"black\" d=\"M297.5,-147.5C297.5,-147.5 201.5,-147.5 201.5,-147.5 195.5,-147.5 189.5,-141.5 189.5,-135.5 189.5,-135.5 189.5,-91.5 189.5,-91.5 189.5,-85.5 195.5,-79.5 201.5,-79.5 201.5,-79.5 297.5,-79.5 297.5,-79.5 303.5,-79.5 309.5,-85.5 309.5,-91.5 309.5,-91.5 309.5,-135.5 309.5,-135.5 309.5,-141.5 303.5,-147.5 297.5,-147.5\"/>\n<text text-anchor=\"middle\" x=\"249.5\" y=\"-132.3\" font-family=\"Helvetica,sans-Serif\" font-size=\"14.00\">gini = 0.045</text>\n<text text-anchor=\"middle\" x=\"249.5\" y=\"-117.3\" font-family=\"Helvetica,sans-Serif\" font-size=\"14.00\">samples = 387</text>\n<text text-anchor=\"middle\" x=\"249.5\" y=\"-102.3\" font-family=\"Helvetica,sans-Serif\" font-size=\"14.00\">value = [9, 378]</text>\n<text text-anchor=\"middle\" x=\"249.5\" y=\"-87.3\" font-family=\"Helvetica,sans-Serif\" font-size=\"14.00\">class = Malicious</text>\n</g>\n<!-- 5&#45;&gt;8 -->\n<g id=\"edge6\" class=\"edge\">\n<title>5&#45;&gt;8</title>\n<path fill=\"none\" stroke=\"black\" d=\"M240.36,-190.91C241.64,-180.2 243.02,-168.62 244.32,-157.78\"/>\n<polygon fill=\"black\" stroke=\"black\" points=\"247.82,-158.01 245.53,-147.67 240.87,-157.18 247.82,-158.01\"/>\n</g>\n<!-- 9 -->\n<g id=\"node5\" class=\"node\">\n<title>9</title>\n<path fill=\"#c0c0c0\" stroke=\"black\" d=\"M64.5,-36C64.5,-36 34.5,-36 34.5,-36 28.5,-36 22.5,-30 22.5,-24 22.5,-24 22.5,-12 22.5,-12 22.5,-6 28.5,0 34.5,0 34.5,0 64.5,0 64.5,0 70.5,0 76.5,-6 76.5,-12 76.5,-12 76.5,-24 76.5,-24 76.5,-30 70.5,-36 64.5,-36\"/>\n<text text-anchor=\"middle\" x=\"49.5\" y=\"-14.3\" font-family=\"Helvetica,sans-Serif\" font-size=\"14.00\">(...)</text>\n</g>\n<!-- 7&#45;&gt;9 -->\n<g id=\"edge4\" class=\"edge\">\n<title>7&#45;&gt;9</title>\n<path fill=\"none\" stroke=\"black\" d=\"M69.81,-71.76C66.46,-63.04 62.99,-54.04 59.89,-45.99\"/>\n<polygon fill=\"black\" stroke=\"black\" points=\"63.06,-44.48 56.2,-36.41 56.53,-46.99 63.06,-44.48\"/>\n</g>\n<!-- 10 -->\n<g id=\"node6\" class=\"node\">\n<title>10</title>\n<path fill=\"#c0c0c0\" stroke=\"black\" d=\"M136.5,-36C136.5,-36 106.5,-36 106.5,-36 100.5,-36 94.5,-30 94.5,-24 94.5,-24 94.5,-12 94.5,-12 94.5,-6 100.5,0 106.5,0 106.5,0 136.5,0 136.5,0 142.5,0 148.5,-6 148.5,-12 148.5,-12 148.5,-24 148.5,-24 148.5,-30 142.5,-36 136.5,-36\"/>\n<text text-anchor=\"middle\" x=\"121.5\" y=\"-14.3\" font-family=\"Helvetica,sans-Serif\" font-size=\"14.00\">(...)</text>\n</g>\n<!-- 7&#45;&gt;10 -->\n<g id=\"edge5\" class=\"edge\">\n<title>7&#45;&gt;10</title>\n<path fill=\"none\" stroke=\"black\" d=\"M101.19,-71.76C104.54,-63.04 108.01,-54.04 111.11,-45.99\"/>\n<polygon fill=\"black\" stroke=\"black\" points=\"114.47,-46.99 114.8,-36.41 107.94,-44.48 114.47,-46.99\"/>\n</g>\n<!-- 13 -->\n<g id=\"node9\" class=\"node\">\n<title>13</title>\n<path fill=\"#e6843e\" stroke=\"black\" d=\"M469,-147.5C469,-147.5 368,-147.5 368,-147.5 362,-147.5 356,-141.5 356,-135.5 356,-135.5 356,-91.5 356,-91.5 356,-85.5 362,-79.5 368,-79.5 368,-79.5 469,-79.5 469,-79.5 475,-79.5 481,-85.5 481,-91.5 481,-91.5 481,-135.5 481,-135.5 481,-141.5 475,-147.5 469,-147.5\"/>\n<text text-anchor=\"middle\" x=\"418.5\" y=\"-132.3\" font-family=\"Helvetica,sans-Serif\" font-size=\"14.00\">gini = 0.046</text>\n<text text-anchor=\"middle\" x=\"418.5\" y=\"-117.3\" font-family=\"Helvetica,sans-Serif\" font-size=\"14.00\">samples = 1066</text>\n<text text-anchor=\"middle\" x=\"418.5\" y=\"-102.3\" font-family=\"Helvetica,sans-Serif\" font-size=\"14.00\">value = [1041, 25]</text>\n<text text-anchor=\"middle\" x=\"418.5\" y=\"-87.3\" font-family=\"Helvetica,sans-Serif\" font-size=\"14.00\">class = Benign</text>\n</g>\n<!-- 6&#45;&gt;13 -->\n<g id=\"edge8\" class=\"edge\">\n<title>6&#45;&gt;13</title>\n<path fill=\"none\" stroke=\"black\" d=\"M427.64,-190.91C426.36,-180.2 424.98,-168.62 423.68,-157.78\"/>\n<polygon fill=\"black\" stroke=\"black\" points=\"427.13,-157.18 422.47,-147.67 420.18,-158.01 427.13,-157.18\"/>\n</g>\n<!-- 14 -->\n<g id=\"node10\" class=\"node\">\n<title>14</title>\n<path fill=\"#aed7f4\" stroke=\"black\" d=\"M607.5,-147.5C607.5,-147.5 511.5,-147.5 511.5,-147.5 505.5,-147.5 499.5,-141.5 499.5,-135.5 499.5,-135.5 499.5,-91.5 499.5,-91.5 499.5,-85.5 505.5,-79.5 511.5,-79.5 511.5,-79.5 607.5,-79.5 607.5,-79.5 613.5,-79.5 619.5,-85.5 619.5,-91.5 619.5,-91.5 619.5,-135.5 619.5,-135.5 619.5,-141.5 613.5,-147.5 607.5,-147.5\"/>\n<text text-anchor=\"middle\" x=\"559.5\" y=\"-132.3\" font-family=\"Helvetica,sans-Serif\" font-size=\"14.00\">gini = 0.467</text>\n<text text-anchor=\"middle\" x=\"559.5\" y=\"-117.3\" font-family=\"Helvetica,sans-Serif\" font-size=\"14.00\">samples = 143</text>\n<text text-anchor=\"middle\" x=\"559.5\" y=\"-102.3\" font-family=\"Helvetica,sans-Serif\" font-size=\"14.00\">value = [53, 90]</text>\n<text text-anchor=\"middle\" x=\"559.5\" y=\"-87.3\" font-family=\"Helvetica,sans-Serif\" font-size=\"14.00\">class = Malicious</text>\n</g>\n<!-- 6&#45;&gt;14 -->\n<g id=\"edge9\" class=\"edge\">\n<title>6&#45;&gt;14</title>\n<path fill=\"none\" stroke=\"black\" d=\"M476.56,-190.91C489.38,-179.1 503.36,-166.22 516.14,-154.45\"/>\n<polygon fill=\"black\" stroke=\"black\" points=\"518.52,-157.02 523.5,-147.67 513.77,-151.87 518.52,-157.02\"/>\n</g>\n<!-- 3 -->\n<g id=\"node12\" class=\"node\">\n<title>3</title>\n<path fill=\"#3a9de5\" stroke=\"black\" d=\"M661.5,-266.5C661.5,-266.5 565.5,-266.5 565.5,-266.5 559.5,-266.5 553.5,-260.5 553.5,-254.5 553.5,-254.5 553.5,-210.5 553.5,-210.5 553.5,-204.5 559.5,-198.5 565.5,-198.5 565.5,-198.5 661.5,-198.5 661.5,-198.5 667.5,-198.5 673.5,-204.5 673.5,-210.5 673.5,-210.5 673.5,-254.5 673.5,-254.5 673.5,-260.5 667.5,-266.5 661.5,-266.5\"/>\n<text text-anchor=\"middle\" x=\"613.5\" y=\"-251.3\" font-family=\"Helvetica,sans-Serif\" font-size=\"14.00\">gini = 0.007</text>\n<text text-anchor=\"middle\" x=\"613.5\" y=\"-236.3\" font-family=\"Helvetica,sans-Serif\" font-size=\"14.00\">samples = 1935</text>\n<text text-anchor=\"middle\" x=\"613.5\" y=\"-221.3\" font-family=\"Helvetica,sans-Serif\" font-size=\"14.00\">value = [7, 1928]</text>\n<text text-anchor=\"middle\" x=\"613.5\" y=\"-206.3\" font-family=\"Helvetica,sans-Serif\" font-size=\"14.00\">class = Malicious</text>\n</g>\n<!-- 2&#45;&gt;3 -->\n<g id=\"edge11\" class=\"edge\">\n<title>2&#45;&gt;3</title>\n<path fill=\"none\" stroke=\"black\" d=\"M617.42,-309.91C616.87,-299.2 616.28,-287.62 615.72,-276.78\"/>\n<polygon fill=\"black\" stroke=\"black\" points=\"619.21,-276.47 615.2,-266.67 612.22,-276.83 619.21,-276.47\"/>\n</g>\n<!-- 4 -->\n<g id=\"node13\" class=\"node\">\n<title>4</title>\n<path fill=\"#e58139\" stroke=\"black\" d=\"M789.5,-266.5C789.5,-266.5 703.5,-266.5 703.5,-266.5 697.5,-266.5 691.5,-260.5 691.5,-254.5 691.5,-254.5 691.5,-210.5 691.5,-210.5 691.5,-204.5 697.5,-198.5 703.5,-198.5 703.5,-198.5 789.5,-198.5 789.5,-198.5 795.5,-198.5 801.5,-204.5 801.5,-210.5 801.5,-210.5 801.5,-254.5 801.5,-254.5 801.5,-260.5 795.5,-266.5 789.5,-266.5\"/>\n<text text-anchor=\"middle\" x=\"746.5\" y=\"-251.3\" font-family=\"Helvetica,sans-Serif\" font-size=\"14.00\">gini = 0.0</text>\n<text text-anchor=\"middle\" x=\"746.5\" y=\"-236.3\" font-family=\"Helvetica,sans-Serif\" font-size=\"14.00\">samples = 182</text>\n<text text-anchor=\"middle\" x=\"746.5\" y=\"-221.3\" font-family=\"Helvetica,sans-Serif\" font-size=\"14.00\">value = [182, 0]</text>\n<text text-anchor=\"middle\" x=\"746.5\" y=\"-206.3\" font-family=\"Helvetica,sans-Serif\" font-size=\"14.00\">class = Benign</text>\n</g>\n<!-- 2&#45;&gt;4 -->\n<g id=\"edge12\" class=\"edge\">\n<title>2&#45;&gt;4</title>\n<path fill=\"none\" stroke=\"black\" d=\"M663.56,-309.91C676.38,-298.1 690.36,-285.22 703.14,-273.45\"/>\n<polygon fill=\"black\" stroke=\"black\" points=\"705.52,-276.02 710.5,-266.67 700.77,-270.87 705.52,-276.02\"/>\n</g>\n</g>\n</svg>\n",
      "text/plain": [
       "<graphviz.sources.Source at 0x7feb6411c190>"
      ]
     },
     "execution_count": 43,
     "metadata": {},
     "output_type": "execute_result"
    }
   ],
   "source": [
    "data = tree.export_graphviz(\n",
    "    dt, \n",
    "    out_file=None, \n",
    "    feature_names = X_train.columns,\n",
    "    class_names = sorted(y_columns.unique()),\n",
    "    max_depth = 3,\n",
    "    filled=True,\n",
    "    rounded=True\n",
    ");\n",
    "\n",
    "graph = graphviz.Source(data);\n",
    "graph"
   ]
  },
  {
   "cell_type": "code",
   "execution_count": 44,
   "metadata": {},
   "outputs": [
    {
     "data": {
      "text/plain": [
       "'tree.png'"
      ]
     },
     "execution_count": 44,
     "metadata": {},
     "output_type": "execute_result"
    }
   ],
   "source": [
    "graph.render(\"tree\",format=\"png\", view=False)"
   ]
  },
  {
   "cell_type": "code",
   "execution_count": null,
   "metadata": {},
   "outputs": [],
   "source": []
  }
 ],
 "metadata": {
  "interpreter": {
   "hash": "7812ea015bdcee6f23a998adcdd2ef97c151c0c241b7b7070987d9313e41299d"
  },
  "kernelspec": {
   "display_name": "Python 3 (ipykernel)",
   "language": "python",
   "name": "python3"
  },
  "language_info": {
   "codemirror_mode": {
    "name": "ipython",
    "version": 3
   },
   "file_extension": ".py",
   "mimetype": "text/x-python",
   "name": "python",
   "nbconvert_exporter": "python",
   "pygments_lexer": "ipython3",
   "version": "3.9.10"
  }
 },
 "nbformat": 4,
 "nbformat_minor": 2
}
