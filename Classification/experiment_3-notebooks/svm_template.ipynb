{
 "cells": [
  {
   "cell_type": "code",
   "execution_count": 98,
   "metadata": {},
   "outputs": [],
   "source": [
    "import pandas as pd\n",
    "import numpy as np\n",
    "import matplotlib.pyplot as plt\n",
    "import seaborn as sns\n",
    "import os\n",
    "\n",
    "from sklearn.svm import SVC\n",
    "from sklearn.model_selection import train_test_split, GridSearchCV, StratifiedKFold, validation_curve\n",
    "from sklearn.metrics import accuracy_score, precision_score, confusion_matrix\n",
    "from sklearn.preprocessing import StandardScaler\n",
    "from sklearn.utils import shuffle\n",
    "import warnings\n",
    "warnings.filterwarnings('error')\n"
   ]
  },
  {
   "cell_type": "code",
   "execution_count": 99,
   "metadata": {},
   "outputs": [],
   "source": [
    "filepath = os.path.join(os.getcwd(), '../data/final_experiment.csv')\n",
    "df = pd.read_csv(filepath)\n",
    "df['Class'] = df['Class'].apply(lambda val: 0 if val == 'Benign' else 1)\n",
    "df = shuffle(df, random_state = 1)"
   ]
  },
  {
   "cell_type": "code",
   "execution_count": 100,
   "metadata": {},
   "outputs": [
    {
     "data": {
      "text/plain": [
       "(36797, 35)"
      ]
     },
     "execution_count": 100,
     "metadata": {},
     "output_type": "execute_result"
    }
   ],
   "source": [
    "df.shape"
   ]
  },
  {
   "cell_type": "code",
   "execution_count": 101,
   "metadata": {},
   "outputs": [],
   "source": [
    "X = df.drop('Class', axis=1)\n",
    "y = df.loc[:,'Class']\n",
    "X_train, X_test, y_train, y_test = train_test_split(X, y, test_size=0.4,\n",
    "random_state=1, stratify=y)"
   ]
  },
  {
   "cell_type": "code",
   "execution_count": 102,
   "metadata": {},
   "outputs": [
    {
     "name": "stdout",
     "output_type": "stream",
     "text": [
      "X_train shape (22078, 34)\n",
      "X_test shape (14719, 34)\n",
      "y_train shape (22078,)\n",
      "y_test shape (14719,)\n"
     ]
    }
   ],
   "source": [
    "print(f'X_train shape {X_train.shape}')\n",
    "print(f'X_test shape {X_test.shape}')\n",
    "print(f'y_train shape {y_train.shape}')\n",
    "print(f'y_test shape {y_test.shape}')"
   ]
  },
  {
   "cell_type": "code",
   "execution_count": 103,
   "metadata": {},
   "outputs": [],
   "source": [
    "scaler = StandardScaler()\n",
    "X_train = scaler.fit_transform(X_train)\n",
    "X_test = scaler.transform(X_test)"
   ]
  },
  {
   "cell_type": "code",
   "execution_count": 104,
   "metadata": {},
   "outputs": [],
   "source": [
    "# Checking the range of parameters\n",
    "degree = np.arange(1,5)\n",
    "C = [32, 64,128, 256, 512, 1024]\n",
    "train_accuracy = []\n",
    "test_accuracy = []\n",
    "\n",
    "for deg in degree:\n",
    "    #Knn classifier with k neighbors\n",
    "    clf = SVC(kernel='poly', degree=deg, random_state =1)\n",
    "    #Fit the model\n",
    "    clf.fit(X_train, y_train)\n",
    "    #Compute accuracy on the training set and test set\n",
    "    train_accuracy.append(clf.score(X_train, y_train))\n",
    "    test_accuracy.append(clf.score(X_test, y_test))\n",
    "  "
   ]
  },
  {
   "cell_type": "code",
   "execution_count": 105,
   "metadata": {},
   "outputs": [],
   "source": [
    "train_loss = []\n",
    "validation_loss = []\n",
    "\n",
    "for score in train_accuracy:\n",
    "    train_loss.append((1 - score))\n",
    "\n",
    "for score in test_accuracy:\n",
    "    validation_loss.append((1 - score))"
   ]
  },
  {
   "cell_type": "code",
   "execution_count": 106,
   "metadata": {},
   "outputs": [
    {
     "data": {
      "image/png": "[encoded data removed]",
      "text/plain": [
       "<Figure size 576x432 with 1 Axes>"
      ]
     },
     "metadata": {},
     "output_type": "display_data"
    }
   ],
   "source": [
    "# # #Generate plot\n",
    "x_ticks = np.arange(0, len(degree))\n",
    "sns.set_style(style=\"darkgrid\")\n",
    "fig, ax = plt.subplots(figsize=(8,6));\n",
    "sns.lineplot(data=[train_loss, validation_loss], dashes=False, ax=ax)\n",
    "ax.set_title('Degree Hyperparameter', fontsize=14, fontweight='bold');\n",
    "ax.set(xlabel='Degree', ylabel='Loss');\n",
    "ax.legend(title='Class', labels=['Training', 'Validation']);\n",
    "plt.xticks(ticks=x_ticks, labels=degree);\n",
    "# ax.set(xlim=(2,128));\n",
    "plt.savefig('../tuning/exp3_svm_degrees.png', dpi=300)"
   ]
  },
  {
   "cell_type": "code",
   "execution_count": null,
   "metadata": {},
   "outputs": [],
   "source": []
  },
  {
   "cell_type": "code",
   "execution_count": null,
   "metadata": {},
   "outputs": [],
   "source": [
    "# # # tuning the hyperparameters\n",
    "\n",
    "param_grid = {\n",
    "    'kernel': ['poly'],\n",
    "    'degree' : [1, 2, 3,],\n",
    "    'C': [128,256, 512]\n",
    "    \n",
    "    }\n",
    "\n",
    "\n",
    "grid = GridSearchCV(\n",
    "    estimator = SVC(),\n",
    "    param_grid= param_grid , \n",
    "    verbose =1, \n",
    "    cv=5, \n",
    "    return_train_score=True, \n",
    ")\n",
    "grid.fit(X_train,y_train)"
   ]
  },
  {
   "cell_type": "code",
   "execution_count": null,
   "metadata": {},
   "outputs": [
    {
     "name": "stdout",
     "output_type": "stream",
     "text": [
      "Best paramater:  {'C': 512, 'degree': 3, 'kernel': 'poly'}\n",
      "Best score: 99.136 %\n"
     ]
    }
   ],
   "source": [
    "print(f'Best paramater:  {grid.best_params_}')\n",
    "print(f'Best score: {(grid.best_score_ * 100):.3f} %')"
   ]
  },
  {
   "cell_type": "code",
   "execution_count": 61,
   "metadata": {},
   "outputs": [],
   "source": [
    "# # fitting the model\n",
    "svm_ = SVC(kernel=\"poly\", C=512, degree=3, random_state=10)"
   ]
  },
  {
   "cell_type": "code",
   "execution_count": 63,
   "metadata": {},
   "outputs": [],
   "source": [
    "# evaluating the models"
   ]
  },
  {
   "cell_type": "code",
   "execution_count": 64,
   "metadata": {},
   "outputs": [],
   "source": [
    "def sensitivity(conf):\n",
    " return conf[1][1] / (conf[1][1] + conf[1][0])\n",
    "\n",
    "def specificity(conf):\n",
    " return conf[0][0] / (conf[0][0] + conf[0][1])\n"
   ]
  },
  {
   "cell_type": "code",
   "execution_count": 65,
   "metadata": {},
   "outputs": [],
   "source": [
    "def evaluate_model(X, y):\n",
    "\n",
    "    train_accuracy = []\n",
    "    test_accuracy = []\n",
    "    sensitivity_scores = []\n",
    "    specificity_scores = []\n",
    "    confusion_matrix_scores = []\n",
    "    precision_scores = []\n",
    "\n",
    "    cv = StratifiedKFold(n_splits=5, shuffle=True, random_state=2) \n",
    "    for train, test in  cv.split(X,y):\n",
    "        X_train_strat = X.iloc[train]\n",
    "        y_train_strat = y.iloc[train]\n",
    "        X_test_strat = X.iloc[test]\n",
    "        y_test_strat = y.iloc[test]\n",
    "\n",
    "        svm_.fit(X_train_strat, y_train_strat)\n",
    "\n",
    "        \n",
    "        y_pred_train_strat = svm_.predict(X_train_strat)\n",
    "        y_pred_strat = svm_.predict(X_test_strat)\n",
    "        \n",
    "        train_accuracy.append(accuracy_score(y_train_strat, y_pred_train_strat))\n",
    "        test_accuracy.append(accuracy_score(y_test_strat, y_pred_strat))\n",
    "        \n",
    "\n",
    "        conf = confusion_matrix(y_test_strat,y_pred_strat)\n",
    "\n",
    "        confusion_matrix_scores.append(conf) \n",
    "        precision_scores.append(precision_score(y_test_strat,y_pred_strat))\n",
    "        sensitivity_scores.append(sensitivity(conf))\n",
    "        specificity_scores.append(specificity(conf))\n",
    "\n",
    "    return (train_accuracy, test_accuracy, confusion_matrix_scores, \n",
    "            precision_scores,sensitivity_scores, \n",
    "            specificity_scores)\n"
   ]
  },
  {
   "cell_type": "code",
   "execution_count": 66,
   "metadata": {},
   "outputs": [],
   "source": [
    "train_accuracy, test_accuracy, confusion_matrix_scores, precision_scores, sensitivity_scores,specificity_scores = evaluate_model(X, y)"
   ]
  },
  {
   "cell_type": "code",
   "execution_count": 69,
   "metadata": {},
   "outputs": [],
   "source": [
    "def average(array):\n",
    "    total = 0\n",
    "    for score in array:\n",
    "        total += score\n",
    "\n",
    "    return (f'{(total / 5 * 100):.2f}')\n",
    "\n",
    "def score(array):\n",
    "    for score in array:\n",
    "        print(f'{(score * 100):.2f}') "
   ]
  },
  {
   "cell_type": "code",
   "execution_count": 70,
   "metadata": {},
   "outputs": [
    {
     "name": "stdout",
     "output_type": "stream",
     "text": [
      "92.28\n",
      "92.42\n",
      "92.90\n",
      "92.23\n",
      "92.61\n"
     ]
    },
    {
     "data": {
      "text/plain": [
       "'92.49'"
      ]
     },
     "execution_count": 70,
     "metadata": {},
     "output_type": "execute_result"
    }
   ],
   "source": [
    "score(train_accuracy)\n",
    "average(train_accuracy)\n"
   ]
  },
  {
   "cell_type": "code",
   "execution_count": 71,
   "metadata": {},
   "outputs": [
    {
     "name": "stdout",
     "output_type": "stream",
     "text": [
      "92.38\n",
      "91.73\n",
      "93.08\n",
      "92.47\n",
      "92.63\n"
     ]
    },
    {
     "data": {
      "text/plain": [
       "'92.46'"
      ]
     },
     "execution_count": 71,
     "metadata": {},
     "output_type": "execute_result"
    }
   ],
   "source": [
    "score(test_accuracy)\n",
    "average(test_accuracy)"
   ]
  },
  {
   "cell_type": "code",
   "execution_count": 72,
   "metadata": {},
   "outputs": [
    {
     "name": "stdout",
     "output_type": "stream",
     "text": [
      "[[3922   83]\n",
      " [ 478 2877]] \n",
      "\n",
      "[[3913   92]\n",
      " [ 517 2838]] \n",
      "\n",
      "[[3921   84]\n",
      " [ 425 2929]] \n",
      "\n",
      "[[3937   67]\n",
      " [ 487 2868]] \n",
      "\n",
      "[[3912   92]\n",
      " [ 450 2905]] \n",
      "\n"
     ]
    }
   ],
   "source": [
    "for cf in confusion_matrix_scores:\n",
    "    print(cf , \"\\n\")"
   ]
  },
  {
   "cell_type": "code",
   "execution_count": 73,
   "metadata": {},
   "outputs": [
    {
     "name": "stdout",
     "output_type": "stream",
     "text": [
      "97.20\n",
      "96.86\n",
      "97.21\n",
      "97.72\n",
      "96.93\n"
     ]
    },
    {
     "data": {
      "text/plain": [
       "'97.18'"
      ]
     },
     "execution_count": 73,
     "metadata": {},
     "output_type": "execute_result"
    }
   ],
   "source": [
    "# precision_scores\n",
    "score(precision_scores)\n",
    "average(precision_scores)"
   ]
  },
  {
   "cell_type": "code",
   "execution_count": 74,
   "metadata": {},
   "outputs": [
    {
     "name": "stdout",
     "output_type": "stream",
     "text": [
      "85.75\n",
      "84.59\n",
      "87.33\n",
      "85.48\n",
      "86.59\n"
     ]
    },
    {
     "data": {
      "text/plain": [
       "'85.95'"
      ]
     },
     "execution_count": 74,
     "metadata": {},
     "output_type": "execute_result"
    }
   ],
   "source": [
    "score(sensitivity_scores)\n",
    "average(sensitivity_scores)"
   ]
  },
  {
   "cell_type": "code",
   "execution_count": 75,
   "metadata": {},
   "outputs": [
    {
     "name": "stdout",
     "output_type": "stream",
     "text": [
      "97.93\n",
      "97.70\n",
      "97.90\n",
      "98.33\n",
      "97.70\n"
     ]
    },
    {
     "data": {
      "text/plain": [
       "'97.91'"
      ]
     },
     "execution_count": 75,
     "metadata": {},
     "output_type": "execute_result"
    }
   ],
   "source": [
    "# sensitivity_scores\n",
    "score(specificity_scores)\n",
    "average(specificity_scores)"
   ]
  },
  {
   "cell_type": "code",
   "execution_count": null,
   "metadata": {},
   "outputs": [],
   "source": []
  },
  {
   "cell_type": "code",
   "execution_count": null,
   "metadata": {},
   "outputs": [],
   "source": [
    "# specificity_scores\n"
   ]
  },
  {
   "cell_type": "code",
   "execution_count": null,
   "metadata": {},
   "outputs": [],
   "source": [
    "# necessary for plotting validation curve"
   ]
  },
  {
   "cell_type": "code",
   "execution_count": null,
   "metadata": {},
   "outputs": [],
   "source": [
    "# train_scores, valid_scores= validation_curve(\n",
    "#     SVC(kernel=\"poly\"),\n",
    "#     X_train, y_train,\n",
    "#     param_name=\"degree\",\n",
    "#     scoring=\"precision\",\n",
    "#     param_range=np.arange(1,10,2)\n",
    "# )"
   ]
  },
  {
   "cell_type": "code",
   "execution_count": null,
   "metadata": {},
   "outputs": [],
   "source": [
    "# train_loss = []\n",
    "# validation_loss = []\n",
    "\n",
    "# for score in train_scores.flatten():\n",
    "#     train_loss.append(( 1 - score))\n",
    "\n",
    "# for score in valid_scores.flatten():\n",
    "#     validation_loss.append((1 - score))"
   ]
  },
  {
   "cell_type": "code",
   "execution_count": null,
   "metadata": {},
   "outputs": [],
   "source": [
    "# sns.set_style(style=\"darkgrid\")\n",
    "# fig, ax = plt.subplots(figsize=(8,6));\n",
    "# sns.lineplot(data=[train_loss, validation_loss], dashes=False, ax=ax)\n",
    "# ax.set_title('Validation Curve for KNeighborsClassifier', fontsize=12, fontweight='bold');\n",
    "# # ax.set_xlim([1,6])\n",
    "# ax.set(xlabel='Number of neighbors', ylabel='Accuracy');\n",
    "# ax.legend(title='', labels=['Training Loss', 'Validation Loss']);\n",
    "# # plt.savefig('images/hyper_knn_exp3.png', dpi=300)"
   ]
  },
  {
   "cell_type": "code",
   "execution_count": null,
   "metadata": {},
   "outputs": [],
   "source": []
  }
 ],
 "metadata": {
  "interpreter": {
   "hash": "7812ea015bdcee6f23a998adcdd2ef97c151c0c241b7b7070987d9313e41299d"
  },
  "kernelspec": {
   "display_name": "Python 3 (ipykernel)",
   "language": "python",
   "name": "python3"
  },
  "language_info": {
   "codemirror_mode": {
    "name": "ipython",
    "version": 3
   },
   "file_extension": ".py",
   "mimetype": "text/x-python",
   "name": "python",
   "nbconvert_exporter": "python",
   "pygments_lexer": "ipython3",
   "version": "3.9.10"
  }
 },
 "nbformat": 4,
 "nbformat_minor": 2
}
