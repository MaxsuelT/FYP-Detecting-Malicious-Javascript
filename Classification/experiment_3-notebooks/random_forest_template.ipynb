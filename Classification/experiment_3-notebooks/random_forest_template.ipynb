{
 "cells": [
  {
   "cell_type": "code",
   "execution_count": 1,
   "metadata": {},
   "outputs": [],
   "source": [
    "import pandas as pd\n",
    "import numpy as np\n",
    "import matplotlib.pyplot as plt\n",
    "import seaborn as sns\n",
    "import os\n",
    "\n",
    "from sklearn.ensemble import RandomForestClassifier\n",
    "from sklearn.model_selection import train_test_split, GridSearchCV, StratifiedKFold\n",
    "\n",
    "from sklearn.metrics import accuracy_score, precision_score, confusion_matrix, make_scorer\n",
    "from sklearn.preprocessing import StandardScaler\n",
    "from sklearn.utils import shuffle\n",
    "import warnings\n",
    "warnings.filterwarnings('error')\n"
   ]
  },
  {
   "cell_type": "code",
   "execution_count": 2,
   "metadata": {},
   "outputs": [],
   "source": [
    "filepath = os.path.join(os.getcwd(), \"../data/final_experiment.csv\")\n",
    "df = pd.read_csv(filepath)\n",
    "df['Class'] = df['Class'].apply(lambda val: 0 if val == 'Benign' else 1)\n",
    "df = shuffle(df, random_state = 1)"
   ]
  },
  {
   "cell_type": "code",
   "execution_count": 3,
   "metadata": {},
   "outputs": [],
   "source": [
    "X = df.drop('Class', axis=1)\n",
    "y = df.loc[:,'Class']\n",
    "\n",
    "X_train, X_test, y_train, y_test = train_test_split(X, y, test_size=0.4,\n",
    "random_state=1, stratify=y)"
   ]
  },
  {
   "cell_type": "code",
   "execution_count": 4,
   "metadata": {},
   "outputs": [
    {
     "name": "stdout",
     "output_type": "stream",
     "text": [
      "X_train shape (22078, 34)\n",
      "X_test shape (14719, 34)\n",
      "y_train shape (22078,)\n",
      "y_test shape (14719,)\n"
     ]
    }
   ],
   "source": [
    "print(f'X_train shape {X_train.shape}')\n",
    "print(f'X_test shape {X_test.shape}')\n",
    "print(f'y_train shape {y_train.shape}')\n",
    "print(f'y_test shape {y_test.shape}')"
   ]
  },
  {
   "cell_type": "code",
   "execution_count": 5,
   "metadata": {},
   "outputs": [],
   "source": [
    "# Checking the range of parameters\n",
    "max_depth = np.arange(3,21,2)\n",
    "max_leaf_nodes= np.arange(4,21,2)\n",
    "min_samples_split =  np.arange(30,200,30)\n",
    "\n",
    "train_accuracy = []\n",
    "test_accuracy = []\n",
    "\n",
    "for par in min_samples_split:\n",
    "    clf = RandomForestClassifier(\n",
    "        criterion='gini', \n",
    "        min_samples_split=par, random_state =1)\n",
    "\n",
    "    clf.fit(X_train, y_train)\n",
    "\n",
    "    train_accuracy.append(clf.score(X_train, y_train))\n",
    "    test_accuracy.append(clf.score(X_test, y_test))\n",
    "  "
   ]
  },
  {
   "cell_type": "code",
   "execution_count": 6,
   "metadata": {},
   "outputs": [],
   "source": [
    "train_loss = []\n",
    "validation_loss = []\n",
    "\n",
    "for score in train_accuracy:\n",
    "    train_loss.append((1 - score))\n",
    "\n",
    "for score in test_accuracy:\n",
    "    validation_loss.append((1 - score))"
   ]
  },
  {
   "cell_type": "code",
   "execution_count": 7,
   "metadata": {},
   "outputs": [
    {
     "data": {
      "image/png": "[encoded data removed]",
      "text/plain": [
       "<Figure size 576x432 with 1 Axes>"
      ]
     },
     "metadata": {},
     "output_type": "display_data"
    }
   ],
   "source": [
    "# # #Generate plot\n",
    "x_ticks = np.arange(0, len(min_samples_split))\n",
    "sns.set_style(style=\"darkgrid\")\n",
    "fig, ax = plt.subplots(figsize=(8,6));\n",
    "sns.lineplot(data=[train_loss, validation_loss], dashes=False, ax=ax)\n",
    "ax.set_title('min_samples_split Hyperparameter', fontsize=14, fontweight='bold');\n",
    "ax.set(xlabel='min_samples_split', ylabel='Loss');\n",
    "ax.legend(title='Class', labels=['Training', 'Validation']);\n",
    "plt.xticks(ticks=x_ticks, labels=min_samples_split);\n",
    "# plt.savefig('../tuning/exp3_rf_min_samples_split.png', dpi=300)"
   ]
  },
  {
   "cell_type": "code",
   "execution_count": null,
   "metadata": {},
   "outputs": [],
   "source": []
  },
  {
   "cell_type": "code",
   "execution_count": 8,
   "metadata": {},
   "outputs": [
    {
     "name": "stdout",
     "output_type": "stream",
     "text": [
      "Fitting 5 folds for each of 108 candidates, totalling 540 fits\n"
     ]
    },
    {
     "data": {
      "text/plain": [
       "GridSearchCV(cv=5, estimator=RandomForestClassifier(random_state=99),\n",
       "             param_grid={'bootstrap': [True], 'criterion': ['gini'],\n",
       "                         'max_depth': [4, 5, 6], 'max_features': ['sqrt'],\n",
       "                         'max_leaf_nodes': [6, 8, 10],\n",
       "                         'min_samples_split': [60, 80, 90],\n",
       "                         'n_estimators': [25, 50, 75, 100]},\n",
       "             verbose=1)"
      ]
     },
     "execution_count": 8,
     "metadata": {},
     "output_type": "execute_result"
    }
   ],
   "source": [
    "# # hyperparamer tuning\n",
    "param_grid = {\n",
    "    'n_estimators' : [25, 50, 75, 100],\n",
    "    'criterion': ['gini'],\n",
    "    'max_leaf_nodes': [6,8,10],\n",
    "    'max_depth' : [4,5,6],\n",
    "    'min_samples_split': [60,80,90],\n",
    "    'bootstrap': [True], \n",
    "    'max_features': [\"sqrt\"],\n",
    "    }\n",
    "\n",
    "rf = RandomForestClassifier(random_state=99)\n",
    "rfgrid = GridSearchCV(rf,param_grid,verbose =1,cv=5)\n",
    "rfgrid.fit(X_train,y_train)\n"
   ]
  },
  {
   "cell_type": "code",
   "execution_count": 9,
   "metadata": {},
   "outputs": [
    {
     "name": "stdout",
     "output_type": "stream",
     "text": [
      "Best paramater:  {'bootstrap': True, 'criterion': 'gini', 'max_depth': 5, 'max_features': 'sqrt', 'max_leaf_nodes': 10, 'min_samples_split': 80, 'n_estimators': 75}\n",
      "Best score: 99.112 %\n"
     ]
    }
   ],
   "source": [
    "print(f'Best paramater:  {rfgrid.best_params_}')\n",
    "print(f'Best score: {(rfgrid.best_score_ * 100):.3f} %')"
   ]
  },
  {
   "cell_type": "code",
   "execution_count": 10,
   "metadata": {},
   "outputs": [],
   "source": [
    "rf = RandomForestClassifier(\n",
    "    n_estimators=rfgrid.best_params_[\"n_estimators\"],\n",
    "    criterion=\"gini\", \n",
    "    max_depth= rfgrid.best_params_[\"max_depth\"], \n",
    "    max_leaf_nodes= rfgrid.best_params_[\"max_leaf_nodes\"],\n",
    "    min_samples_split = rfgrid.best_params_['min_samples_split'],\n",
    "    bootstrap=True, \n",
    "    max_features=\"sqrt\",\n",
    "    random_state=1\n",
    ") \n"
   ]
  },
  {
   "cell_type": "code",
   "execution_count": 11,
   "metadata": {},
   "outputs": [
    {
     "data": {
      "text/plain": [
       "{'bootstrap': True,\n",
       " 'ccp_alpha': 0.0,\n",
       " 'class_weight': None,\n",
       " 'criterion': 'gini',\n",
       " 'max_depth': 5,\n",
       " 'max_features': 'sqrt',\n",
       " 'max_leaf_nodes': 10,\n",
       " 'max_samples': None,\n",
       " 'min_impurity_decrease': 0.0,\n",
       " 'min_samples_leaf': 1,\n",
       " 'min_samples_split': 80,\n",
       " 'min_weight_fraction_leaf': 0.0,\n",
       " 'n_estimators': 75,\n",
       " 'n_jobs': None,\n",
       " 'oob_score': False,\n",
       " 'random_state': 1,\n",
       " 'verbose': 0,\n",
       " 'warm_start': False}"
      ]
     },
     "execution_count": 11,
     "metadata": {},
     "output_type": "execute_result"
    }
   ],
   "source": [
    "rf.get_params()"
   ]
  },
  {
   "cell_type": "code",
   "execution_count": 12,
   "metadata": {},
   "outputs": [],
   "source": [
    "# evaluating the models"
   ]
  },
  {
   "cell_type": "code",
   "execution_count": 13,
   "metadata": {},
   "outputs": [],
   "source": [
    "\n",
    "def sensitivity(conf):\n",
    " return conf[1][1] / (conf[1][1] + conf[1][0])\n",
    "\n",
    "def specificity(conf):\n",
    " return conf[0][0] / (conf[0][0] + conf[0][1]) \n"
   ]
  },
  {
   "cell_type": "code",
   "execution_count": 14,
   "metadata": {},
   "outputs": [],
   "source": [
    "def evaluate_model(X, y):\n",
    "\n",
    "    train_accuracy = []\n",
    "    test_accuracy = []\n",
    "    sensitivity_scores = []\n",
    "    specificity_scores = []\n",
    "    confusion_matrix_scores = []\n",
    "    precision_scores = []\n",
    "\n",
    "    cv = StratifiedKFold(n_splits=5, shuffle=True, random_state=1) \n",
    "    for train, test in  cv.split(X,y):\n",
    "        X_train_strat = X.iloc[train]\n",
    "        y_train_strat = y.iloc[train]\n",
    "        X_test_strat = X.iloc[test]\n",
    "        y_test_strat = y.iloc[test]\n",
    "     \n",
    "        rf.fit(X_train_strat, y_train_strat)\n",
    "        \n",
    "        y_pred_train_strat = rf.predict(X_train_strat)\n",
    "        y_pred_strat = rf.predict(X_test_strat)\n",
    "        \n",
    "        train_accuracy.append(accuracy_score(y_train_strat, y_pred_train_strat))\n",
    "        test_accuracy.append(accuracy_score(y_test_strat, y_pred_strat))\n",
    "        \n",
    "        conf = confusion_matrix(y_test_strat,y_pred_strat)\n",
    "        confusion_matrix_scores.append(conf) \n",
    "\n",
    "        precision_scores.append(precision_score(y_test_strat,y_pred_strat))\n",
    "        sensitivity_scores.append(sensitivity(conf))\n",
    "        specificity_scores.append(specificity(conf))\n",
    "\n",
    "    return (train_accuracy, test_accuracy, confusion_matrix_scores, \n",
    "            precision_scores,sensitivity_scores, \n",
    "            specificity_scores)\n"
   ]
  },
  {
   "cell_type": "code",
   "execution_count": 15,
   "metadata": {},
   "outputs": [],
   "source": [
    "train_accuracy, test_accuracy, confusion_matrix_scores, precision_scores, sensitivity_scores,specificity_scores = evaluate_model(X, y)"
   ]
  },
  {
   "cell_type": "code",
   "execution_count": 16,
   "metadata": {},
   "outputs": [],
   "source": [
    "# confusion_matrix_scores"
   ]
  },
  {
   "cell_type": "code",
   "execution_count": 17,
   "metadata": {},
   "outputs": [],
   "source": [
    "def average(array):\n",
    "    total = 0\n",
    "    for score in array:\n",
    "        total += score\n",
    "\n",
    "    return (f'{(total / 5 * 100):.2f}')\n",
    "\n",
    "def score(array):\n",
    "    for score in array:\n",
    "        print(f'{(score * 100):.2f}') "
   ]
  },
  {
   "cell_type": "code",
   "execution_count": 18,
   "metadata": {},
   "outputs": [
    {
     "name": "stdout",
     "output_type": "stream",
     "text": [
      "99.15\n",
      "99.21\n",
      "99.15\n",
      "99.11\n",
      "99.16\n"
     ]
    },
    {
     "data": {
      "text/plain": [
       "'99.16'"
      ]
     },
     "execution_count": 18,
     "metadata": {},
     "output_type": "execute_result"
    }
   ],
   "source": [
    "score(train_accuracy)\n",
    "average(train_accuracy)\n"
   ]
  },
  {
   "cell_type": "code",
   "execution_count": 19,
   "metadata": {},
   "outputs": [
    {
     "name": "stdout",
     "output_type": "stream",
     "text": [
      "99.16\n",
      "98.95\n",
      "99.27\n",
      "99.24\n",
      "99.16\n"
     ]
    },
    {
     "data": {
      "text/plain": [
       "'99.15'"
      ]
     },
     "execution_count": 19,
     "metadata": {},
     "output_type": "execute_result"
    }
   ],
   "source": [
    "score(test_accuracy)\n",
    "average(test_accuracy)"
   ]
  },
  {
   "cell_type": "code",
   "execution_count": 20,
   "metadata": {},
   "outputs": [
    {
     "name": "stdout",
     "output_type": "stream",
     "text": [
      "[[3971   34]\n",
      " [  28 3327]] \n",
      "\n",
      "[[3966   39]\n",
      " [  38 3317]] \n",
      "\n",
      "[[3981   24]\n",
      " [  30 3324]] \n",
      "\n",
      "[[3985   19]\n",
      " [  37 3318]] \n",
      "\n",
      "[[3973   31]\n",
      " [  31 3324]] \n",
      "\n"
     ]
    }
   ],
   "source": [
    "for cf in confusion_matrix_scores:\n",
    "    print(cf , \"\\n\")"
   ]
  },
  {
   "cell_type": "code",
   "execution_count": 21,
   "metadata": {},
   "outputs": [
    {
     "name": "stdout",
     "output_type": "stream",
     "text": [
      "98.99\n",
      "98.84\n",
      "99.28\n",
      "99.43\n",
      "99.08\n"
     ]
    },
    {
     "data": {
      "text/plain": [
       "'99.12'"
      ]
     },
     "execution_count": 21,
     "metadata": {},
     "output_type": "execute_result"
    }
   ],
   "source": [
    "# precision_scores\n",
    "score(precision_scores)\n",
    "average(precision_scores)"
   ]
  },
  {
   "cell_type": "code",
   "execution_count": 22,
   "metadata": {},
   "outputs": [
    {
     "name": "stdout",
     "output_type": "stream",
     "text": [
      "99.17\n",
      "98.87\n",
      "99.11\n",
      "98.90\n",
      "99.08\n"
     ]
    },
    {
     "data": {
      "text/plain": [
       "'99.02'"
      ]
     },
     "execution_count": 22,
     "metadata": {},
     "output_type": "execute_result"
    }
   ],
   "source": [
    "# sensitivity_scores\n",
    "score(sensitivity_scores)\n",
    "average(sensitivity_scores)"
   ]
  },
  {
   "cell_type": "code",
   "execution_count": 23,
   "metadata": {},
   "outputs": [
    {
     "name": "stdout",
     "output_type": "stream",
     "text": [
      "99.15\n",
      "99.03\n",
      "99.40\n",
      "99.53\n",
      "99.23\n"
     ]
    },
    {
     "data": {
      "text/plain": [
       "'99.27'"
      ]
     },
     "execution_count": 23,
     "metadata": {},
     "output_type": "execute_result"
    }
   ],
   "source": [
    "# specificity_scores\n",
    "score(specificity_scores)\n",
    "average(specificity_scores)"
   ]
  },
  {
   "cell_type": "markdown",
   "metadata": {},
   "source": [
    "test_accuracy"
   ]
  },
  {
   "cell_type": "code",
   "execution_count": null,
   "metadata": {},
   "outputs": [],
   "source": []
  }
 ],
 "metadata": {
  "interpreter": {
   "hash": "7812ea015bdcee6f23a998adcdd2ef97c151c0c241b7b7070987d9313e41299d"
  },
  "kernelspec": {
   "display_name": "Python 3 (ipykernel)",
   "language": "python",
   "name": "python3"
  },
  "language_info": {
   "codemirror_mode": {
    "name": "ipython",
    "version": 3
   },
   "file_extension": ".py",
   "mimetype": "text/x-python",
   "name": "python",
   "nbconvert_exporter": "python",
   "pygments_lexer": "ipython3",
   "version": "3.9.10"
  }
 },
 "nbformat": 4,
 "nbformat_minor": 2
}
