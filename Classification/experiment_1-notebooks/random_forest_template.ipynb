{
 "cells": [
  {
   "cell_type": "code",
   "execution_count": 116,
   "metadata": {},
   "outputs": [],
   "source": [
    "import pandas as pd\n",
    "import numpy as np\n",
    "import matplotlib.pyplot as plt\n",
    "import seaborn as sns\n",
    "import os\n",
    "\n",
    "from sklearn.ensemble import RandomForestClassifier\n",
    "from sklearn.model_selection import train_test_split, GridSearchCV, StratifiedKFold\n",
    "\n",
    "from sklearn.metrics import accuracy_score, precision_score, confusion_matrix, make_scorer\n",
    "from sklearn.preprocessing import StandardScaler\n",
    "from sklearn.utils import shuffle\n",
    "from sklearn.pipeline import Pipeline\n",
    "import warnings\n",
    "warnings.filterwarnings('error')\n"
   ]
  },
  {
   "cell_type": "code",
   "execution_count": 117,
   "metadata": {},
   "outputs": [],
   "source": [
    "filepath = os.path.join(os.getcwd(), '../data/pre_PS.csv')\n",
    "df = pd.read_csv(filepath)\n",
    "df['Class'] = df['Class'].apply(lambda val: 0 if val == 'Benign' else 1)\n",
    "df = shuffle(df, random_state = 1)"
   ]
  },
  {
   "cell_type": "code",
   "execution_count": 118,
   "metadata": {},
   "outputs": [],
   "source": [
    "X = df.drop('Class', axis=1)\n",
    "y = df.loc[:,'Class']\n",
    "\n",
    "X_train, X_test, y_train, y_test = train_test_split(X, y, test_size=0.4,\n",
    "random_state=1, stratify=y)"
   ]
  },
  {
   "cell_type": "code",
   "execution_count": 119,
   "metadata": {},
   "outputs": [
    {
     "name": "stdout",
     "output_type": "stream",
     "text": [
      "X_train shape (1371, 8)\n",
      "X_test shape (914, 8)\n",
      "y_train shape (1371,)\n",
      "y_test shape (914,)\n"
     ]
    }
   ],
   "source": [
    "print(f'X_train shape {X_train.shape}')\n",
    "print(f'X_test shape {X_test.shape}')\n",
    "print(f'y_train shape {y_train.shape}')\n",
    "print(f'y_test shape {y_test.shape}')"
   ]
  },
  {
   "cell_type": "code",
   "execution_count": 120,
   "metadata": {},
   "outputs": [],
   "source": [
    "# Checking the range of parameters\n",
    "max_depth = [2,4,6,8,10,12,14]\n",
    "max_leaf_nodes= [4,6,8,10,12,14,16,18,20]\n",
    "min_samples_split =  [10,20,30,40,50,60,70,80,90,100]\n",
    "\n",
    "train_accuracy = []\n",
    "test_accuracy = []\n",
    "\n",
    "for par in max_leaf_nodes:\n",
    "    clf = RandomForestClassifier(\n",
    "        criterion='gini', \n",
    "        min_samples_split=par, random_state =1)\n",
    "\n",
    "    clf.fit(X_train, y_train)\n",
    "\n",
    "    train_accuracy.append(clf.score(X_train, y_train))\n",
    "    test_accuracy.append(clf.score(X_test, y_test))\n",
    "  "
   ]
  },
  {
   "cell_type": "code",
   "execution_count": 121,
   "metadata": {},
   "outputs": [],
   "source": [
    "train_loss = []\n",
    "validation_loss = []\n",
    "\n",
    "for score in train_accuracy:\n",
    "    train_loss.append((1 - score))\n",
    "\n",
    "for score in test_accuracy:\n",
    "    validation_loss.append((1 - score))"
   ]
  },
  {
   "cell_type": "code",
   "execution_count": 122,
   "metadata": {},
   "outputs": [
    {
     "data": {
      "image/png": "[encoded data removed]",
      "text/plain": [
       "<Figure size 576x432 with 1 Axes>"
      ]
     },
     "metadata": {},
     "output_type": "display_data"
    }
   ],
   "source": [
    "# # #Generate plot\n",
    "x_ticks = np.arange(0, len(min_samples_split))\n",
    "sns.set_style(style=\"darkgrid\")\n",
    "fig, ax = plt.subplots(figsize=(8,6));\n",
    "sns.lineplot(data=[train_loss, validation_loss], dashes=False, ax=ax)\n",
    "ax.set_title('min_samples_split Hyperparameter', fontsize=14, fontweight='bold');\n",
    "ax.set(xlabel='min_samples_split', ylabel='Loss');\n",
    "ax.legend(title='Class', labels=['Training', 'Validation']);\n",
    "plt.xticks(ticks=x_ticks, labels=min_samples_split);\n",
    "# plt.savefig('../tuning/exp1_rf_min_samples_split.png', dpi=300)"
   ]
  },
  {
   "cell_type": "code",
   "execution_count": 51,
   "metadata": {},
   "outputs": [
    {
     "name": "stdout",
     "output_type": "stream",
     "text": [
      "Fitting 5 folds for each of 108 candidates, totalling 540 fits\n"
     ]
    },
    {
     "data": {
      "text/plain": [
       "GridSearchCV(cv=5, error_score=True,\n",
       "             estimator=RandomForestClassifier(random_state=99),\n",
       "             param_grid={'criterion': ['gini'], 'max_depth': [4, 5, 6],\n",
       "                         'max_features': ['sqrt'], 'max_leaf_nodes': [4, 6, 8],\n",
       "                         'min_samples_split': [20, 25, 30],\n",
       "                         'n_estimators': [25, 50, 75, 100]},\n",
       "             verbose=1)"
      ]
     },
     "execution_count": 51,
     "metadata": {},
     "output_type": "execute_result"
    }
   ],
   "source": [
    "# # hyperparamer tuning\n",
    "param_grid = {\n",
    "    'n_estimators' :[25, 50, 75, 100],\n",
    "    'criterion': ['gini'],\n",
    "    'max_leaf_nodes': [4,6,8],\n",
    "    'max_depth' : [4,5,6],\n",
    "    'min_samples_split': [20,25,30],\n",
    "    'max_features': [\"sqrt\"]\n",
    "    }\n",
    "rf = RandomForestClassifier(random_state=99)\n",
    "rfgrid = GridSearchCV(rf,param_grid,verbose =1,cv=5, error_score=True)\n",
    "rfgrid.fit(X_train,y_train)\n"
   ]
  },
  {
   "cell_type": "code",
   "execution_count": 52,
   "metadata": {},
   "outputs": [
    {
     "name": "stdout",
     "output_type": "stream",
     "text": [
      "Best paramater:  {'criterion': 'gini', 'max_depth': 4, 'max_features': 'sqrt', 'max_leaf_nodes': 8, 'min_samples_split': 25, 'n_estimators': 75}\n",
      "Best score: 98.031 %\n"
     ]
    }
   ],
   "source": [
    "print(f'Best paramater:  {rfgrid.best_params_}')\n",
    "print(f'Best score: {(rfgrid.best_score_ * 100):.3f} %')"
   ]
  },
  {
   "cell_type": "code",
   "execution_count": 53,
   "metadata": {},
   "outputs": [],
   "source": [
    "rf = RandomForestClassifier(\n",
    "    n_estimators=rfgrid.best_params_[\"n_estimators\"],\n",
    "    criterion=\"gini\", \n",
    "    max_depth= rfgrid.best_params_[\"max_depth\"], \n",
    "    max_leaf_nodes= rfgrid.best_params_[\"max_leaf_nodes\"],\n",
    "    min_samples_split = rfgrid.best_params_['min_samples_split'],\n",
    "    bootstrap=True, \n",
    "    max_features=\"sqrt\",\n",
    "    random_state=1\n",
    ") \n"
   ]
  },
  {
   "cell_type": "code",
   "execution_count": 54,
   "metadata": {},
   "outputs": [
    {
     "data": {
      "text/plain": [
       "{'bootstrap': True,\n",
       " 'ccp_alpha': 0.0,\n",
       " 'class_weight': None,\n",
       " 'criterion': 'gini',\n",
       " 'max_depth': 4,\n",
       " 'max_features': 'sqrt',\n",
       " 'max_leaf_nodes': 8,\n",
       " 'max_samples': None,\n",
       " 'min_impurity_decrease': 0.0,\n",
       " 'min_samples_leaf': 1,\n",
       " 'min_samples_split': 25,\n",
       " 'min_weight_fraction_leaf': 0.0,\n",
       " 'n_estimators': 75,\n",
       " 'n_jobs': None,\n",
       " 'oob_score': False,\n",
       " 'random_state': 1,\n",
       " 'verbose': 0,\n",
       " 'warm_start': False}"
      ]
     },
     "execution_count": 54,
     "metadata": {},
     "output_type": "execute_result"
    }
   ],
   "source": [
    "rf.get_params()"
   ]
  },
  {
   "cell_type": "code",
   "execution_count": 55,
   "metadata": {},
   "outputs": [],
   "source": [
    "# evaluating the models"
   ]
  },
  {
   "cell_type": "code",
   "execution_count": 56,
   "metadata": {},
   "outputs": [],
   "source": [
    "\n",
    "def sensitivity(conf):\n",
    " return conf[1][1] / (conf[1][1] + conf[1][0])\n",
    "\n",
    "def specificity(conf):\n",
    " return conf[0][0] / (conf[0][0] + conf[0][1]) \n"
   ]
  },
  {
   "cell_type": "code",
   "execution_count": 57,
   "metadata": {},
   "outputs": [],
   "source": [
    "def evaluate_model(X, y):\n",
    "\n",
    "    train_accuracy = []\n",
    "    test_accuracy = []\n",
    "    sensitivity_scores = []\n",
    "    specificity_scores = []\n",
    "    confusion_matrix_scores = []\n",
    "    precision_scores = []\n",
    "\n",
    "    cv = StratifiedKFold(n_splits=5, shuffle=True, random_state=1) \n",
    "    for train, test in  cv.split(X,y):\n",
    "        X_train_strat = X.iloc[train]\n",
    "        y_train_strat = y.iloc[train]\n",
    "        X_test_strat = X.iloc[test]\n",
    "        y_test_strat = y.iloc[test]\n",
    "            \n",
    "        \n",
    "        #Fit the model\n",
    "        rf.fit(X_train_strat, y_train_strat)\n",
    "       \n",
    "        y_pred_train_strat = rf.predict(X_train_strat)\n",
    "\n",
    "        y_pred_strat = rf.predict(X_test_strat)\n",
    "\n",
    "\n",
    "        train_accuracy.append(accuracy_score(y_train_strat, y_pred_train_strat))\n",
    "        test_accuracy.append(accuracy_score(y_test_strat, y_pred_strat))\n",
    "\n",
    "        conf = confusion_matrix(y_test_strat,y_pred_strat)\n",
    "\n",
    "        confusion_matrix_scores.append(conf) \n",
    "\n",
    "\n",
    "        precision_scores.append(precision_score(y_test_strat,y_pred_strat))\n",
    "        sensitivity_scores.append(sensitivity(conf))\n",
    "        specificity_scores.append(specificity(conf))\n",
    "\n",
    "    return (train_accuracy, test_accuracy, confusion_matrix_scores, \n",
    "            precision_scores,sensitivity_scores, \n",
    "            specificity_scores)\n"
   ]
  },
  {
   "cell_type": "code",
   "execution_count": 58,
   "metadata": {},
   "outputs": [],
   "source": [
    "train_accuracy, test_accuracy, confusion_matrix_scores, precision_scores, sensitivity_scores,specificity_scores = evaluate_model(X, y)"
   ]
  },
  {
   "cell_type": "code",
   "execution_count": 59,
   "metadata": {},
   "outputs": [],
   "source": [
    "def average(array):\n",
    "    total = 0\n",
    "    for score in array:\n",
    "        total += score\n",
    "\n",
    "    return (f'{(total / 5 * 100):.2f}')\n",
    "\n",
    "def score(array):\n",
    "    for score in array:\n",
    "        print(f'{(score * 100):.2f}') "
   ]
  },
  {
   "cell_type": "code",
   "execution_count": 60,
   "metadata": {},
   "outputs": [
    {
     "name": "stdout",
     "output_type": "stream",
     "text": [
      "98.41\n",
      "97.76\n",
      "98.25\n",
      "98.19\n",
      "97.87\n"
     ]
    },
    {
     "data": {
      "text/plain": [
       "'98.10'"
      ]
     },
     "execution_count": 60,
     "metadata": {},
     "output_type": "execute_result"
    }
   ],
   "source": [
    "score(train_accuracy)\n",
    "average(train_accuracy)\n"
   ]
  },
  {
   "cell_type": "code",
   "execution_count": 61,
   "metadata": {},
   "outputs": [
    {
     "name": "stdout",
     "output_type": "stream",
     "text": [
      "97.59\n",
      "98.47\n",
      "97.81\n",
      "98.03\n",
      "97.59\n"
     ]
    },
    {
     "data": {
      "text/plain": [
       "'97.90'"
      ]
     },
     "execution_count": 61,
     "metadata": {},
     "output_type": "execute_result"
    }
   ],
   "source": [
    "score(test_accuracy)\n",
    "average(test_accuracy)"
   ]
  },
  {
   "cell_type": "code",
   "execution_count": 62,
   "metadata": {},
   "outputs": [
    {
     "name": "stdout",
     "output_type": "stream",
     "text": [
      "[[220   9]\n",
      " [  2 226]] \n",
      "\n",
      "[[225   4]\n",
      " [  3 225]] \n",
      "\n",
      "[[220   8]\n",
      " [  2 227]] \n",
      "\n",
      "[[223   5]\n",
      " [  4 225]] \n",
      "\n",
      "[[222   6]\n",
      " [  5 224]] \n",
      "\n"
     ]
    }
   ],
   "source": [
    "for cf in confusion_matrix_scores:\n",
    "    print(cf , \"\\n\")"
   ]
  },
  {
   "cell_type": "code",
   "execution_count": 63,
   "metadata": {},
   "outputs": [
    {
     "name": "stdout",
     "output_type": "stream",
     "text": [
      "96.17\n",
      "98.25\n",
      "96.60\n",
      "97.83\n",
      "97.39\n"
     ]
    },
    {
     "data": {
      "text/plain": [
       "'97.25'"
      ]
     },
     "execution_count": 63,
     "metadata": {},
     "output_type": "execute_result"
    }
   ],
   "source": [
    "# precision_scores\n",
    "score(precision_scores)\n",
    "average(precision_scores)\n",
    "# '97.34'"
   ]
  },
  {
   "cell_type": "code",
   "execution_count": 64,
   "metadata": {},
   "outputs": [
    {
     "name": "stdout",
     "output_type": "stream",
     "text": [
      "99.12\n",
      "98.68\n",
      "99.13\n",
      "98.25\n",
      "97.82\n"
     ]
    },
    {
     "data": {
      "text/plain": [
       "'98.60'"
      ]
     },
     "execution_count": 64,
     "metadata": {},
     "output_type": "execute_result"
    }
   ],
   "source": [
    "# sensitivity_scores\n",
    "score(sensitivity_scores)\n",
    "average(sensitivity_scores)\n",
    "# '98.78'"
   ]
  },
  {
   "cell_type": "code",
   "execution_count": 65,
   "metadata": {},
   "outputs": [
    {
     "name": "stdout",
     "output_type": "stream",
     "text": [
      "96.07\n",
      "98.25\n",
      "96.49\n",
      "97.81\n",
      "97.37\n"
     ]
    },
    {
     "data": {
      "text/plain": [
       "'97.20'"
      ]
     },
     "execution_count": 65,
     "metadata": {},
     "output_type": "execute_result"
    }
   ],
   "source": [
    "# specificity_scores\n",
    "score(specificity_scores)\n",
    "average(specificity_scores)\n",
    "# '97.29'"
   ]
  },
  {
   "cell_type": "code",
   "execution_count": null,
   "metadata": {},
   "outputs": [],
   "source": []
  }
 ],
 "metadata": {
  "interpreter": {
   "hash": "7812ea015bdcee6f23a998adcdd2ef97c151c0c241b7b7070987d9313e41299d"
  },
  "kernelspec": {
   "display_name": "Python 3 (ipykernel)",
   "language": "python",
   "name": "python3"
  },
  "language_info": {
   "codemirror_mode": {
    "name": "ipython",
    "version": 3
   },
   "file_extension": ".py",
   "mimetype": "text/x-python",
   "name": "python",
   "nbconvert_exporter": "python",
   "pygments_lexer": "ipython3",
   "version": "3.9.10"
  }
 },
 "nbformat": 4,
 "nbformat_minor": 2
}
