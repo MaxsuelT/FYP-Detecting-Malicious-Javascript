{
 "cells": [
  {
   "cell_type": "code",
   "execution_count": 36,
   "metadata": {},
   "outputs": [],
   "source": [
    "import pandas as pd\n",
    "import matplotlib.pyplot as plt\n",
    "import seaborn as sns\n",
    "import numpy as np\n",
    "import os\n",
    "import json\n",
    "from random import sample, seed\n",
    "from sklearn.utils import shuffle\n",
    "pd.set_option('display.max_colwidth', None)"
   ]
  },
  {
   "cell_type": "code",
   "execution_count": 37,
   "metadata": {},
   "outputs": [],
   "source": [
    "\n",
    "json_benign_samples_1 = 'json_results/benign_samples_1.json'\n",
    "json_benign_samples_2 = \"json_results/benign_samples_2.json\"\n",
    "json_benign_samples_3 = 'json_results/benign_samples_3.json'\n",
    "json_benign_samples_4 = 'json_results/benign_samples_4.json'\n",
    "json_benign_samples_5 = 'json_results/benign_samples_5.json'\n",
    "json_benign_samples_6 = \"json_results/benign_samples_6.json\"\n",
    "json_benign_samples_7 = 'json_results/benign_samples_7.json'\n",
    "json_benign_samples_8 = 'json_results/benign_samples_8.json'\n",
    "json_benign_samples_9 = 'json_results/benign_samples_9.json'\n",
    "json_benign_samples_10 = 'json_results/benign_samples_10.json'\n",
    "json_benign_samples_11 = 'json_results/benign_samples_11.json'\n",
    "json_benign_final = \"/Users/maxsueltrajano/Desktop/FYP/Malicious JavaScript Code Project/Component_2-Feature_Extraction/results/benign_samples_final.json\"\n",
    "\n",
    "json_malicious_1 = 'json_results/malicious_2015.json'\n",
    "json_malicious_2 = 'json_results/malicious_2016.json'\n",
    "json_malicious_3 = 'json_results/malicious_2017.json'\n",
    "json_malicious_4 = \"json_results/malicious_geekonSecurity.json\"\n",
    "\n",
    "\n",
    "def getJson(path):\n",
    "    filename = os.path.join(os.getcwd(),path)\n",
    "    with open(filename, 'r+') as fileobj:\n",
    "        data = json.load(fileobj)\n",
    "    return data\n",
    "\n"
   ]
  },
  {
   "cell_type": "code",
   "execution_count": 38,
   "metadata": {},
   "outputs": [],
   "source": [
    "\n",
    "data_benign_1 = getJson(json_benign_samples_1)\n",
    "data_benign_2 = getJson(json_benign_samples_2)\n",
    "data_benign_3 = getJson(json_benign_samples_3)\n",
    "data_benign_4 = getJson(json_benign_samples_4)\n",
    "data_benign_5 = getJson(json_benign_samples_5)\n",
    "data_benign_6 = getJson(json_benign_samples_6)\n",
    "data_benign_7 = getJson(json_benign_samples_7)\n",
    "data_benign_8 = getJson(json_benign_samples_8)\n",
    "data_benign_9 = getJson(json_benign_samples_9)\n",
    "data_benign_10 = getJson(json_benign_samples_10)\n",
    "data_benign_11 = getJson(json_benign_samples_11)\n",
    "data_benign_final = getJson(json_benign_final)\n",
    "\n",
    "\n",
    "data_malicious_1 = getJson(json_malicious_1)\n",
    "data_malicious_2 = getJson(json_malicious_2)\n",
    "data_malicious_3 = getJson(json_malicious_3)\n",
    "data_malicious_4 = getJson(json_malicious_4)"
   ]
  },
  {
   "cell_type": "code",
   "execution_count": 39,
   "metadata": {},
   "outputs": [],
   "source": [
    "df_benign_1 = pd.DataFrame(data_benign_1)\n",
    "df_benign_2 = pd.DataFrame(data_benign_2)\n",
    "df_benign_3 = pd.DataFrame(data_benign_3)\n",
    "df_benign_4 = pd.DataFrame(data_benign_4)\n",
    "df_benign_5 = pd.DataFrame(data_benign_5)\n",
    "df_benign_6 = pd.DataFrame(data_benign_6)\n",
    "df_benign_7 = pd.DataFrame(data_benign_7)\n",
    "df_benign_8 = pd.DataFrame(data_benign_8)\n",
    "df_benign_9 = pd.DataFrame(data_benign_9)\n",
    "df_benign_10 = pd.DataFrame(data_benign_10)\n",
    "df_benign_11 = pd.DataFrame(data_benign_11)\n",
    "df_benign_final = pd.DataFrame(data_benign_final)\n",
    "\n",
    "df_malicious_1 = pd.DataFrame(data_malicious_1)\n",
    "df_malicious_2 = pd.DataFrame(data_malicious_2)\n",
    "df_malicious_3 = pd.DataFrame(data_malicious_3)\n",
    "df_malicious_4 = pd.DataFrame(data_malicious_4)"
   ]
  },
  {
   "cell_type": "code",
   "execution_count": 40,
   "metadata": {},
   "outputs": [],
   "source": [
    "df_benign_1['Class'] = 0\n",
    "df_benign_2['Class'] = 0\n",
    "df_benign_3['Class'] = 0\n",
    "df_benign_4['Class'] = 0\n",
    "df_benign_5['Class'] = 0\n",
    "df_benign_6['Class'] = 0\n",
    "df_benign_7['Class'] = 0\n",
    "df_benign_8['Class'] = 0\n",
    "df_benign_9['Class'] = 0\n",
    "df_benign_10['Class'] = 0\n",
    "df_benign_11['Class'] = 0\n",
    "df_benign_final[\"Class\"] = 0\n",
    "\n",
    "df_malicious_1['Class'] = 1\n",
    "df_malicious_3['Class'] = 1\n",
    "df_malicious_2['Class'] = 1\n",
    "df_malicious_4['Class'] = 1"
   ]
  },
  {
   "cell_type": "code",
   "execution_count": 41,
   "metadata": {},
   "outputs": [],
   "source": [
    "df_benign = pd.concat([\n",
    "    df_benign_1, df_benign_2, \n",
    "    df_benign_3, df_benign_4,\n",
    "    df_benign_5, df_benign_6, \n",
    "    df_benign_7, df_benign_8, \n",
    "    df_benign_9, df_benign_10,\n",
    "    df_benign_11, df_benign_final\n",
    "    \n",
    "    \n",
    "])"
   ]
  },
  {
   "cell_type": "code",
   "execution_count": 42,
   "metadata": {},
   "outputs": [
    {
     "name": "stdout",
     "output_type": "stream",
     "text": [
      "Duplicates benign: 43268\n",
      "Duplicates benign: 0\n"
     ]
    }
   ],
   "source": [
    "print(f'Duplicates benign: {df_benign.duplicated().sum()}')\n",
    "df_benign.drop_duplicates(keep='first', inplace=True)\n",
    "print(f'Duplicates benign: {df_benign.duplicated().sum()}')"
   ]
  },
  {
   "cell_type": "code",
   "execution_count": 43,
   "metadata": {},
   "outputs": [],
   "source": [
    "# seed(1)\n",
    "# data_benign_sample = df_benign.sample(7431, random_state=0)"
   ]
  },
  {
   "cell_type": "code",
   "execution_count": 44,
   "metadata": {},
   "outputs": [],
   "source": [
    "df_malicious = pd.concat([df_malicious_1, df_malicious_2, df_malicious_3, df_malicious_4])"
   ]
  },
  {
   "cell_type": "code",
   "execution_count": 45,
   "metadata": {},
   "outputs": [
    {
     "name": "stdout",
     "output_type": "stream",
     "text": [
      "Duplicates malicious: 9219\n",
      "Duplicates malicious: 0\n"
     ]
    }
   ],
   "source": [
    "print(f'Duplicates malicious: {df_malicious.duplicated().sum()}')\n",
    "df_malicious.drop_duplicates(keep='first', inplace=True)\n",
    "print(f'Duplicates malicious: {df_malicious.duplicated().sum()}')"
   ]
  },
  {
   "cell_type": "code",
   "execution_count": 46,
   "metadata": {},
   "outputs": [
    {
     "name": "stdout",
     "output_type": "stream",
     "text": [
      "Benign shape: (58629, 45)\n",
      "Malicious shape: (24113, 37)\n"
     ]
    }
   ],
   "source": [
    "print(f'Benign shape: {df_benign.shape}')\n",
    "print(f'Malicious shape: {df_malicious.shape}')"
   ]
  },
  {
   "cell_type": "code",
   "execution_count": 47,
   "metadata": {},
   "outputs": [],
   "source": [
    "# df_benign.describe()"
   ]
  },
  {
   "cell_type": "code",
   "execution_count": 48,
   "metadata": {},
   "outputs": [],
   "source": [
    "# concatenating\n",
    "df = pd.concat([df_benign, df_malicious])\n",
    "df = shuffle(df, random_state=0)"
   ]
  },
  {
   "cell_type": "code",
   "execution_count": 49,
   "metadata": {},
   "outputs": [],
   "source": [
    "drop_cols = [\n",
    "    \"BinaryExpression\", \"ClassDeclaration\", \"Identifier\", \"VariableDeclaration\",\n",
    "   \"SpreadElement\", \"TemplateLiteral\", \n",
    "    \"VariableDeclaration\", \"MetaProperty\", \"Imports\", \"Exports\",\n",
    "    \"ImportExpression\"]\n",
    "\n",
    "df.drop(columns=drop_cols, axis=1, inplace=True)"
   ]
  },
  {
   "cell_type": "code",
   "execution_count": 50,
   "metadata": {},
   "outputs": [],
   "source": [
    "df[df.columns] = df[df.columns].fillna(0).astype('int')"
   ]
  },
  {
   "cell_type": "code",
   "execution_count": 51,
   "metadata": {},
   "outputs": [],
   "source": [
    "# Problem 1 : Discrepancy in length"
   ]
  },
  {
   "cell_type": "code",
   "execution_count": 52,
   "metadata": {},
   "outputs": [
    {
     "data": {
      "text/plain": [
       "count    2.916000e+04\n",
       "mean     8.994485e+04\n",
       "std      3.591299e+05\n",
       "min      1.000000e+00\n",
       "25%      3.283000e+03\n",
       "50%      1.212200e+04\n",
       "75%      5.252750e+04\n",
       "max      1.424578e+07\n",
       "Name: file_length, dtype: float64"
      ]
     },
     "execution_count": 52,
     "metadata": {},
     "output_type": "execute_result"
    }
   ],
   "source": [
    "df[(df[\"file_length\"]) & (df[\"Class\"] == 0)][\"file_length\"].describe()"
   ]
  },
  {
   "cell_type": "code",
   "execution_count": 53,
   "metadata": {},
   "outputs": [
    {
     "data": {
      "text/plain": [
       "count     12102.000000\n",
       "mean      73858.567179\n",
       "std      128326.497080\n",
       "min         377.000000\n",
       "25%       12649.000000\n",
       "50%       29061.000000\n",
       "75%       82880.500000\n",
       "max      769557.000000\n",
       "Name: file_length, dtype: float64"
      ]
     },
     "execution_count": 53,
     "metadata": {},
     "output_type": "execute_result"
    }
   ],
   "source": [
    "df[(df[\"file_length\"]) & (df[\"Class\"] == 1)][\"file_length\"].describe()"
   ]
  },
  {
   "cell_type": "code",
   "execution_count": 54,
   "metadata": {},
   "outputs": [
    {
     "data": {
      "text/plain": [
       "60838"
      ]
     },
     "execution_count": 54,
     "metadata": {},
     "output_type": "execute_result"
    }
   ],
   "source": [
    "df = df.drop(df[(df.file_length > 100000)].index)\n",
    "total =  len(df)\n",
    "df = df.drop(df[(df.file_length < 1000)].index)\n",
    "total += len(df)\n",
    "total"
   ]
  },
  {
   "cell_type": "code",
   "execution_count": 55,
   "metadata": {},
   "outputs": [
    {
     "name": "stdout",
     "output_type": "stream",
     "text": [
      "Duplicates: 424\n",
      "Duplicates: 0\n",
      "Current Dataset Shape: (26030, 35)\n"
     ]
    }
   ],
   "source": [
    "print(f'Duplicates: {df.duplicated().sum()}')\n",
    "df = df.drop_duplicates(keep='first')\n",
    "print(f'Duplicates: {df.duplicated().sum()}')\n",
    "print(f'Current Dataset Shape: {df.shape}')"
   ]
  },
  {
   "cell_type": "code",
   "execution_count": 56,
   "metadata": {},
   "outputs": [],
   "source": [
    "file_len_benign = df[(df[\"file_length\"]) & (df[\"Class\"] == 0)][\"file_length\"]\n",
    "file_len_malicious = df[(df[\"file_length\"]) & (df[\"Class\"] == 1)][\"file_length\"]"
   ]
  },
  {
   "cell_type": "code",
   "execution_count": 57,
   "metadata": {},
   "outputs": [],
   "source": [
    "df['Class'] = df['Class'].apply(lambda val: 'Benign' if val == 0 else 'Malicious')"
   ]
  },
  {
   "cell_type": "code",
   "execution_count": 58,
   "metadata": {},
   "outputs": [
    {
     "data": {
      "text/plain": [
       "Text(0.5, 1.0, 'File Length')"
      ]
     },
     "execution_count": 58,
     "metadata": {},
     "output_type": "execute_result"
    },
    {
     "data": {
      "image/png": "[encoded data removed]",
      "text/plain": [
       "<Figure size 648x504 with 1 Axes>"
      ]
     },
     "metadata": {},
     "output_type": "display_data"
    }
   ],
   "source": [
    "table1 = df[[\"file_length\", \"Class\"]]\n",
    "sns.set_style('darkgrid')\n",
    "fig, ax = plt.subplots(figsize=(9,7))\n",
    "ax = sns.boxplot(x='Class', y='file_length', hue='Class', data=table1)\n",
    "ax.set(xlabel='Class', ylabel='Length in characters');\n",
    "ax.set_title('File Length', fontsize=14, fontweight='bold')\n",
    "# ax.set(ylim = (0, 50));\n",
    "# plt.savefig(\"images/File_length\", dpi=300)"
   ]
  },
  {
   "cell_type": "code",
   "execution_count": 25,
   "metadata": {},
   "outputs": [],
   "source": [
    "df.insert(len(df.columns) - 1, 'Class', df.pop('Class'))"
   ]
  },
  {
   "cell_type": "code",
   "execution_count": 26,
   "metadata": {},
   "outputs": [],
   "source": [
    "df[\"eval\"] = df[\"eval\"].apply(lambda x: 1 if x >= 1 else 0)\n",
    "withEval, withOutEval= df[\"eval\"].value_counts().to_list()[0], df[\"eval\"].value_counts().to_list()[1] "
   ]
  },
  {
   "cell_type": "code",
   "execution_count": 27,
   "metadata": {},
   "outputs": [],
   "source": [
    "# n_eval_benign = (n_eval_benign / len(df[df[\"Class\"] == \"Benign\"])) * 100\n"
   ]
  },
  {
   "cell_type": "code",
   "execution_count": 28,
   "metadata": {},
   "outputs": [
    {
     "data": {
      "text/plain": [
       "936"
      ]
     },
     "execution_count": 28,
     "metadata": {},
     "output_type": "execute_result"
    }
   ],
   "source": [
    "n_eval_benign =  df[(df[\"eval\"]) & (df[\"Class\"] == \"Benign\")][\"eval\"].sum()\n",
    "# n_eval_benign = (n_eval_benign / withEval) * 100\n",
    "n_eval_benign"
   ]
  },
  {
   "cell_type": "code",
   "execution_count": 29,
   "metadata": {},
   "outputs": [
    {
     "name": "stdout",
     "output_type": "stream",
     "text": [
      "0.3650841101176726\n"
     ]
    },
    {
     "data": {
      "text/plain": [
       "13434"
      ]
     },
     "execution_count": 29,
     "metadata": {},
     "output_type": "execute_result"
    }
   ],
   "source": [
    "n_eval_malicious =  df[(df[\"eval\"]) & (df[\"Class\"] == \"Malicious\")][\"eval\"].sum()\n",
    "# n_eval_malicious = (n_eval_malicious/ withEval) * 100\n",
    "print((n_eval_malicious + n_eval_benign) / len(df))\n",
    "n_eval_malicious + n_eval_benign"
   ]
  },
  {
   "cell_type": "code",
   "execution_count": 30,
   "metadata": {},
   "outputs": [],
   "source": [
    "# labels = [\"Benign\", \"Malicious\"]\n",
    "# sizes = [n_eval_benign, n_eval_malicious]\n",
    "# explode = (0, 0.2)\n",
    "# colors = [\"#99ff99\",'#ff9999' ]\n",
    "# fig1, ax1 = plt.subplots(figsize=(8,6))\n",
    "# plt.tight_layout()\n",
    "# ax1.pie(sizes,explode =explode,\n",
    "# autopct='%1.1f%%',pctdistance=0.8, colors=colors);\n",
    "# plt.legend(labels=labels)\n",
    "\n",
    "# plt.title(\"\\nOut of 12914 scripts containing eval \");\n",
    "# # plt.savefig(\"images/scripts_with_eval\", dpi=300)"
   ]
  },
  {
   "cell_type": "code",
   "execution_count": 31,
   "metadata": {},
   "outputs": [],
   "source": [
    "# # # Benign vs Malicious\n",
    "# table3 = df[[\"funcArgsCallExpression\", \"concatenation\",'Class']]\n",
    "# fig, ax = plt.subplots(figsize=(8,6))\n",
    "# ax = sns.barplot(y='funcArgsCallExpression', x='concatenation', hue='Class', data=table3)\n",
    "# ax.set_title('Objects vs Binary Expressions', fontsize=14, fontweight='bold')\n",
    "# ax.set(xlabel='ObjectExpressions', ylabel='BinaryExpressiont')\n",
    "# ax.legend(title='Class',bbox_to_anchor=[0.6, 1]);\n",
    "# # ax.set(ylim = (0, 50));\n",
    "# # plt.savefig('smv_non_linear.png', dpi=300)"
   ]
  },
  {
   "cell_type": "code",
   "execution_count": 32,
   "metadata": {},
   "outputs": [],
   "source": [
    "# table2 = df[['stringCount', 'concatenation', 'Class']]\n",
    "# fig, ax = plt.subplots(figsize=(8,6))\n",
    "# ax = sns.scatterplot(y='concatenation', x='stringCount', hue='Class', data=table2)\n",
    "# ax.set_title('Objects vs Binary Expressions', fontsize=14, fontweight='bold')\n",
    "# ax.set(xlabel='stringCount', ylabel='concatenation')\n",
    "# ax.legend(title='Class',bbox_to_anchor=[0.6, 1]);"
   ]
  },
  {
   "cell_type": "code",
   "execution_count": 33,
   "metadata": {},
   "outputs": [],
   "source": [
    "# Plotting the Scores"
   ]
  },
  {
   "cell_type": "code",
   "execution_count": 2,
   "metadata": {},
   "outputs": [],
   "source": [
    "# svm \n",
    "svm_precision = [56.98, 99.66, 97.18]\n",
    "svm_sensitivity = [61.01, 87.33, 85.95]\n",
    "svm_specificity = [45.21, 99.70, 97.91]"
   ]
  },
  {
   "cell_type": "code",
   "execution_count": 3,
   "metadata": {},
   "outputs": [],
   "source": [
    "dt_precision = [88.99,96.80, 97.70]\n",
    "dt_sensitivity = [95.10, 93.34, 95.22 ]\n",
    "dt_specificity = [88.09, 96.71 , 98.12]"
   ]
  },
  {
   "cell_type": "code",
   "execution_count": 4,
   "metadata": {},
   "outputs": [],
   "source": [
    "rf_precision = [97.25, 99.61, 99.12]\n",
    "rf_sensitivity = [98.60, 97.42,99.02 ]\n",
    "rf_specificity = [97.20, 99.62,  99.27]"
   ]
  },
  {
   "cell_type": "code",
   "execution_count": 5,
   "metadata": {},
   "outputs": [],
   "source": [
    "data_precision = {\n",
    "    \"Models\" : [\"SVM\", \"DT\", \"RF\"],\n",
    "    \"Experiment 1\" : [svm_precision[0], dt_precision[0], rf_precision[0]],   \n",
    "    \"Experiment 2\" : [svm_precision[1], dt_precision[1], rf_precision[1]], \n",
    "    \"Experiment 3\": [svm_precision[2], dt_precision[2], rf_precision[2]], \n",
    "    \n",
    "}\n",
    "\n",
    "data_sensitivity = {\n",
    "    \"Models\" : [\"SVM\", \"DT\", \"RF\"],\n",
    "    \"Experiment 1\" : [svm_sensitivity[0],dt_sensitivity[0], rf_sensitivity[0]],\n",
    "    \"Experiment 2\": [svm_sensitivity[1],dt_sensitivity[1], rf_sensitivity[1]],   \n",
    "    \"Experiment 3\": [svm_sensitivity[2],dt_sensitivity[1], rf_sensitivity[2]],\n",
    "    \n",
    "\n",
    "}\n",
    "    \n",
    "data_specificity = {\n",
    "    \"Models\" : [\"SVM\", \"DT\", \"RF\"],\n",
    "    \"Experiment 1\" : [svm_specificity[0],dt_specificity[0], rf_specificity[0]],\n",
    "    \"Experiment 2\": [svm_specificity[1],dt_specificity[1], rf_specificity[1]], \n",
    "    \"Experiment 3\": [svm_specificity[2],dt_specificity[2], rf_specificity[2]],\n",
    "\n",
    "}\n",
    "\n",
    "  "
   ]
  },
  {
   "cell_type": "code",
   "execution_count": 6,
   "metadata": {},
   "outputs": [],
   "source": [
    "df_precision = pd.DataFrame(data_precision)\n",
    "df_precision.set_index(\"Models\", inplace=True)\n",
    "df_sensitivity = pd.DataFrame(data_sensitivity)\n",
    "df_sensitivity.set_index(\"Models\", inplace=True)\n",
    "df_specificity = pd.DataFrame(data_specificity)\n",
    "df_specificity.set_index(\"Models\", inplace=True)\n"
   ]
  },
  {
   "cell_type": "code",
   "execution_count": 7,
   "metadata": {},
   "outputs": [
    {
     "data": {
      "image/png": "[encoded data removed]",
      "text/plain": [
       "<Figure size 576x432 with 1 Axes>"
      ]
     },
     "metadata": {},
     "output_type": "display_data"
    }
   ],
   "source": [
    "sns.set_style(style=\"darkgrid\")\n",
    "fig, ax = plt.subplots(figsize=(8,6));\n",
    "sns.lineplot(data=df_precision.loc[\"SVM\"],\n",
    "        dashes=False, markers=True, ax=ax)\n",
    "\n",
    "sns.lineplot(data=df_precision.loc[\"DT\"], \n",
    "dashes=False, markers=True, ax=ax)\n",
    "\n",
    "sns.lineplot(data=df_precision.loc[\"RF\"],\n",
    " dashes=False, markers=True,ax=ax)\n",
    "\n",
    "ax.set_title('Performance Evaluation - Precision', fontsize=12, fontweight='bold');\n",
    "ax.set(xlabel= \"\", ylabel='Score');\n",
    "ax.legend(title='Models', labels=['SVM', 'DT', 'RF']);\n",
    "# plt.savefig('images/models_precision.png', dpi=300)"
   ]
  },
  {
   "cell_type": "code",
   "execution_count": 8,
   "metadata": {},
   "outputs": [
    {
     "data": {
      "image/png": "[encoded data removed]",
      "text/plain": [
       "<Figure size 576x432 with 1 Axes>"
      ]
     },
     "metadata": {},
     "output_type": "display_data"
    }
   ],
   "source": [
    "sns.set_style(style=\"darkgrid\")\n",
    "fig, ax = plt.subplots(figsize=(8,6));\n",
    "sns.lineplot(data=df_sensitivity.loc[\"SVM\"],\n",
    "        dashes=False, markers=True, ax=ax)\n",
    "\n",
    "sns.lineplot(data=df_sensitivity.loc[\"DT\"], \n",
    "dashes=False, markers=True, ax=ax)\n",
    "\n",
    "sns.lineplot(data=df_sensitivity.loc[\"RF\"],\n",
    " dashes=False, markers=True,ax=ax)\n",
    "\n",
    "ax.set_title('Performance Evaluation - Sensitivity', fontsize=12, fontweight='bold');\n",
    "ax.set(xlabel= \"\", ylabel='Score');\n",
    "ax.legend(title='Models', labels=['SVM', 'DT', 'RF']);\n",
    "# plt.savefig('images/models_sensitivity.png', dpi=300)"
   ]
  },
  {
   "cell_type": "code",
   "execution_count": 9,
   "metadata": {},
   "outputs": [
    {
     "data": {
      "image/png": "[encoded data removed]",
      "text/plain": [
       "<Figure size 576x432 with 1 Axes>"
      ]
     },
     "metadata": {},
     "output_type": "display_data"
    }
   ],
   "source": [
    "sns.set_style(style=\"darkgrid\")\n",
    "fig, ax = plt.subplots(figsize=(8,6));\n",
    "sns.lineplot(data=df_specificity.loc[\"SVM\"],\n",
    "        dashes=False, markers=True, ax=ax)\n",
    "\n",
    "sns.lineplot(data=df_specificity.loc[\"DT\"], \n",
    "dashes=False, markers=True, ax=ax)\n",
    "\n",
    "sns.lineplot(data=df_specificity.loc[\"RF\"],\n",
    " dashes=False, markers=True,ax=ax)\n",
    "\n",
    "ax.set_title('Performance Evaluation - Specificity', fontsize=12, fontweight='bold');\n",
    "ax.set(xlabel= \"\", ylabel='Score');\n",
    "ax.legend(title='Models', labels=['SVM', 'DT', 'RF']);\n",
    "# plt.savefig('images/models_specificity.png', dpi=300)"
   ]
  },
  {
   "cell_type": "code",
   "execution_count": 10,
   "metadata": {},
   "outputs": [],
   "source": [
    "# overall\n",
    "data_overall = {\n",
    "    \"Models\": [\"SVM\", \"DT\", \"RF\"],\n",
    "    \"Precision\": [ \n",
    "        ( df_precision.loc[\"SVM\"].sum()/3),\n",
    "         (df_precision.loc[\"DT\"].sum()/3),\n",
    "        (df_precision.loc[\"RF\"].sum()/3),\n",
    "    ],\n",
    "    \"Sensitivity\": [\n",
    "        (df_sensitivity.loc[\"SVM\"].sum()/3),\n",
    "        (df_sensitivity.loc[\"DT\"].sum()/3),\n",
    "        (df_sensitivity.loc[\"RF\"].sum()/3),\n",
    "    ],\n",
    "\n",
    "    \"Specificity\": [\n",
    "        (df_specificity.loc[\"SVM\"].sum()/3),\n",
    "        (df_specificity.loc[\"DT\"].sum()/3),\n",
    "        (df_specificity.loc[\"RF\"].sum()/3)\n",
    "    ]\n",
    "    \n",
    "    \n",
    "\n",
    "\n",
    "}"
   ]
  },
  {
   "cell_type": "code",
   "execution_count": 11,
   "metadata": {},
   "outputs": [
    {
     "data": {
      "text/html": [
       "<div>\n",
       "<style scoped>\n",
       "    .dataframe tbody tr th:only-of-type {\n",
       "        vertical-align: middle;\n",
       "    }\n",
       "\n",
       "    .dataframe tbody tr th {\n",
       "        vertical-align: top;\n",
       "    }\n",
       "\n",
       "    .dataframe thead th {\n",
       "        text-align: right;\n",
       "    }\n",
       "</style>\n",
       "<table border=\"1\" class=\"dataframe\">\n",
       "  <thead>\n",
       "    <tr style=\"text-align: right;\">\n",
       "      <th></th>\n",
       "      <th>Precision</th>\n",
       "      <th>Sensitivity</th>\n",
       "      <th>Specificity</th>\n",
       "    </tr>\n",
       "    <tr>\n",
       "      <th>Models</th>\n",
       "      <th></th>\n",
       "      <th></th>\n",
       "      <th></th>\n",
       "    </tr>\n",
       "  </thead>\n",
       "  <tbody>\n",
       "    <tr>\n",
       "      <th>SVM</th>\n",
       "      <td>84.606667</td>\n",
       "      <td>78.096667</td>\n",
       "      <td>80.940000</td>\n",
       "    </tr>\n",
       "    <tr>\n",
       "      <th>DT</th>\n",
       "      <td>94.496667</td>\n",
       "      <td>93.926667</td>\n",
       "      <td>94.306667</td>\n",
       "    </tr>\n",
       "    <tr>\n",
       "      <th>RF</th>\n",
       "      <td>98.660000</td>\n",
       "      <td>98.346667</td>\n",
       "      <td>98.696667</td>\n",
       "    </tr>\n",
       "  </tbody>\n",
       "</table>\n",
       "</div>"
      ],
      "text/plain": [
       "        Precision  Sensitivity  Specificity\n",
       "Models                                     \n",
       "SVM     84.606667    78.096667    80.940000\n",
       "DT      94.496667    93.926667    94.306667\n",
       "RF      98.660000    98.346667    98.696667"
      ]
     },
     "execution_count": 11,
     "metadata": {},
     "output_type": "execute_result"
    }
   ],
   "source": [
    "df_overall = pd.DataFrame(data_overall)\n",
    "df_overall.set_index(\"Models\", inplace=True)\n",
    "df_overall"
   ]
  },
  {
   "cell_type": "code",
   "execution_count": 12,
   "metadata": {},
   "outputs": [
    {
     "data": {
      "image/png": "[encoded data removed]",
      "text/plain": [
       "<Figure size 576x432 with 1 Axes>"
      ]
     },
     "metadata": {},
     "output_type": "display_data"
    }
   ],
   "source": [
    "sns.set_style(style=\"darkgrid\")\n",
    "fig, ax = plt.subplots(figsize=(8,6));\n",
    "sns.lineplot(data=df_overall.loc[\"SVM\"],\n",
    "        dashes=False, ax=ax)\n",
    "\n",
    "sns.lineplot(data=df_overall.loc[\"DT\"],\n",
    "        dashes=False, ax=ax)\n",
    "\n",
    "sns.lineplot(data=df_overall.loc[\"RF\"],\n",
    "        dashes=False, ax=ax)\n",
    "ax.set_title('Overall performance of all experiments', fontsize=12, fontweight='bold');\n",
    "ax.set(xlabel= \"Metrics\", ylabel='Score');\n",
    "ax.legend(title='Models', labels=['SVM', 'DT', 'RF']);\n",
    "# plt.savefig('images/overall_performance', dpi=300)"
   ]
  },
  {
   "cell_type": "code",
   "execution_count": null,
   "metadata": {},
   "outputs": [],
   "source": []
  },
  {
   "cell_type": "code",
   "execution_count": 2,
   "metadata": {},
   "outputs": [],
   "source": [
    "# precision, sensitivity, specificity\n",
    "# exp1 \n",
    "svm_1 = 56.98 +  61.01  + 45.21\n",
    "svm_2 = 99.66 + 87.33 + 99.70\n",
    "svm_3 = 97.18 + 85.95 + 97.91\n",
    "\n",
    "dt_1 = 88.99 + 95.10 + 88.09\n",
    "dt_2 = 96.80+   93.34 + 96.71\n",
    "dt_3 =  97.70 + 95.22 + 98.12\n",
    "\n",
    "rf_1 = 97.25 +  98.60 + 97.20\n",
    "rf_2 = 99.61 +  97.42 +  99.62\n",
    "rf_3 = 99.12 + 99.02 + 99.27"
   ]
  },
  {
   "cell_type": "code",
   "execution_count": 8,
   "metadata": {},
   "outputs": [
    {
     "data": {
      "text/plain": [
       "-1.88333333333334"
      ]
     },
     "execution_count": 8,
     "metadata": {},
     "output_type": "execute_result"
    }
   ],
   "source": [
    "svm1 = svm_1 /3\n",
    "svm2 = svm_2 / 3\n",
    "svm3 = svm_3 /3\n",
    "svm3 - svm2"
   ]
  },
  {
   "cell_type": "code",
   "execution_count": 10,
   "metadata": {},
   "outputs": [
    {
     "data": {
      "text/plain": [
       "1.3966666666666754"
      ]
     },
     "execution_count": 10,
     "metadata": {},
     "output_type": "execute_result"
    }
   ],
   "source": [
    "dt1 = dt_1 /3\n",
    "dt2 = dt_2 /3\n",
    "dt3 = dt_3 /3\n",
    "dt3 - dt2"
   ]
  },
  {
   "cell_type": "code",
   "execution_count": 14,
   "metadata": {},
   "outputs": [
    {
     "data": {
      "text/plain": [
       "0.2533333333333303"
      ]
     },
     "execution_count": 14,
     "metadata": {},
     "output_type": "execute_result"
    }
   ],
   "source": [
    "rf1 = rf_1 /3 \n",
    "rf2 = rf_2 /3\n",
    "rf3 = rf_3 /3\n",
    "rf3 - rf2"
   ]
  },
  {
   "cell_type": "code",
   "execution_count": 78,
   "metadata": {},
   "outputs": [
    {
     "data": {
      "text/plain": [
       "2.8599999999999994"
      ]
     },
     "execution_count": 78,
     "metadata": {},
     "output_type": "execute_result"
    }
   ],
   "source": [
    "precision = 99.66 - 96.80\n",
    "precision"
   ]
  },
  {
   "cell_type": "code",
   "execution_count": 82,
   "metadata": {},
   "outputs": [
    {
     "data": {
      "text/plain": [
       "6.010000000000005"
      ]
     },
     "execution_count": 82,
     "metadata": {},
     "output_type": "execute_result"
    }
   ],
   "source": [
    "sensitivity = 93.34 - 87.33\n",
    "sensitivity"
   ]
  },
  {
   "cell_type": "code",
   "execution_count": 79,
   "metadata": {},
   "outputs": [
    {
     "data": {
      "text/plain": [
       "2.990000000000009"
      ]
     },
     "execution_count": 79,
     "metadata": {},
     "output_type": "execute_result"
    }
   ],
   "source": [
    "specificity = 99.70 - 96.71\n",
    "specificity"
   ]
  },
  {
   "cell_type": "code",
   "execution_count": null,
   "metadata": {},
   "outputs": [],
   "source": [
    "# # # # #  Writing the DataFrame to CSV file for the classifier\n",
    "# filepath = os.path.join(os.getcwd(), 'data/final_experiment.csv')\n",
    "# df.to_csv(filepath, index=False)"
   ]
  }
 ],
 "metadata": {
  "interpreter": {
   "hash": "7812ea015bdcee6f23a998adcdd2ef97c151c0c241b7b7070987d9313e41299d"
  },
  "kernelspec": {
   "display_name": "Python 3.9.6 64-bit",
   "name": "python3"
  },
  "language_info": {
   "codemirror_mode": {
    "name": "ipython",
    "version": 3
   },
   "file_extension": ".py",
   "mimetype": "text/x-python",
   "name": "python",
   "nbconvert_exporter": "python",
   "pygments_lexer": "ipython3",
   "version": "3.9.10"
  }
 },
 "nbformat": 4,
 "nbformat_minor": 4
}
